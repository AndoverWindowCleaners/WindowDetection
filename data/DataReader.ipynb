{
 "cells": [
  {
   "cell_type": "code",
   "execution_count": 30,
   "source": [
    "import tensorflow as tf\n",
    "import numpy as np\n",
    "import cv2\n",
    "import os"
   ],
   "outputs": [],
   "metadata": {}
  },
  {
   "cell_type": "code",
   "execution_count": 43,
   "source": [
    "all_label_folders = [dir for dir in os.listdir('labels') if 'Folder' in dir]\n",
    "print('reading...')\n",
    "for label_folder in all_label_folders:\n",
    "    video_path = f\"training_videos/{label_folder[7:]}.avi\"\n",
    "    if os.path.isfile(video_path):\n",
    "        print(video_path)\n",
    "        cap = cv2.VideoCapture(video_path)\n",
    "        length = int(cap.get(cv2.CAP_PROP_FRAME_COUNT))\n",
    "        frames = []\n",
    "        for i in range(length):\n",
    "            ret, frame = cap.read()\n",
    "            if ret:\n",
    "                frames.append(frame)\n",
    "        frames = np.array(frames)"
   ],
   "outputs": [
    {
     "output_type": "stream",
     "name": "stdout",
     "text": [
      "reading...\n",
      "training_videos/8 W.avi\n",
      "training_videos/20 W.avi\n",
      "training_videos/21 W.avi\n",
      "training_videos/10 W.avi\n",
      "training_videos/9 W.avi\n",
      "training_videos/7 W.avi\n"
     ]
    }
   ],
   "metadata": {}
  },
  {
   "cell_type": "code",
   "execution_count": 32,
   "source": [
    "class VideoDataset:\n",
    "    def __init__(self, label_dir, video_dir, sep) -> None:\n",
    "        self.all_label_folders = [dir for dir in os.listdir(label_dir) if 'Folder' in dir]\n",
    "        self.label_dir = label_dir\n",
    "        self.video_dir = video_dir\n",
    "        self.sep = sep\n",
    "    \n",
    "    def __len__(self):\n",
    "        return len(self.all_label_folders)\n",
    "    \n",
    "    def __getitem__(self, idx):\n",
    "        folder_name = self.all_label_folders[idx]\n",
    "        video_path = f\"training_videos/{label_folder[7:]}.avi\"\n",
    "        if not os.path.isfile(video_path):\n",
    "            return None\n",
    "        cap = cv2.VideoCapture(video_path)\n",
    "        length = int(cap.get(cv2.CAP_PROP_FRAME_COUNT))\n",
    "        frames = []\n",
    "        for i in range(length):\n",
    "            ret, frame = cap.read()\n",
    "            if ret:\n",
    "                frames.append(frame)\n",
    "        frames = np.array(frames)\n",
    "        anno_path = os.path.join(self.label_dir, folder_name)\n",
    "        if not os.path.isdir(anno_path):\n",
    "            return None\n",
    "        anno_path = [path for path in os.listdir(anno_path) if (not '.zip' in path) and ('YOLO' in path)]\n",
    "        assert len(anno_path) == 0\n",
    "        anno_path = anno_path[0]\n",
    "        annos = []\n",
    "        for file in os.listdir(anno_path):\n",
    "            if not '.txt' in file:\n",
    "                continue\n",
    "            anno = {'labels':[], 'boxes':[]}\n",
    "            with open(file) as f:\n",
    "                lines = f.readlines()\n",
    "                for line in lines:\n",
    "                    ll = line.split(' ')\n",
    "                    anno['labels'].append(ll[0])\n",
    "                    anno['boxes'].append(ll[1:])\n",
    "            annos.append(anno)\n",
    "        all_annos = []\n",
    "        for i in range(length):\n",
    "            id = i/self.sep\n",
    "            all_annos.append(annos[id])\n",
    "        return frames, all_annos"
   ],
   "outputs": [],
   "metadata": {}
  }
 ],
 "metadata": {
  "orig_nbformat": 4,
  "language_info": {
   "name": "python",
   "version": "3.8.3",
   "mimetype": "text/x-python",
   "codemirror_mode": {
    "name": "ipython",
    "version": 3
   },
   "pygments_lexer": "ipython3",
   "nbconvert_exporter": "python",
   "file_extension": ".py"
  },
  "kernelspec": {
   "name": "python3",
   "display_name": "Python 3.8.3 64-bit"
  },
  "interpreter": {
   "hash": "aee8b7b246df8f9039afb4144a1f6fd8d2ca17a180786b69acc140d282b71a49"
  }
 },
 "nbformat": 4,
 "nbformat_minor": 2
}