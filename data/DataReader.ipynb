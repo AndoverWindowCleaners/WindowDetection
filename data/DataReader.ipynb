{
 "cells": [
  {
   "cell_type": "code",
   "execution_count": 1,
   "metadata": {},
   "outputs": [],
   "source": [
    "import tensorflow as tf\n",
    "import numpy as np\n",
    "import cv2\n",
    "import os"
   ]
  },
  {
   "cell_type": "code",
   "execution_count": 2,
   "metadata": {},
   "outputs": [
    {
     "name": "stdout",
     "output_type": "stream",
     "text": [
      "(640, 360, 3)\n"
     ]
    }
   ],
   "source": [
    "cap = cv2.VideoCapture('training_videos/59 W.mov')\n",
    "ret, frame = cap.read()\n",
    "print(frame.shape)"
   ]
  },
  {
   "cell_type": "code",
   "execution_count": 43,
   "metadata": {},
   "outputs": [
    {
     "name": "stdout",
     "output_type": "stream",
     "text": [
      "reading...\n",
      "training_videos/8 W.avi\n",
      "training_videos/20 W.avi\n",
      "training_videos/21 W.avi\n",
      "training_videos/10 W.avi\n",
      "training_videos/9 W.avi\n",
      "training_videos/7 W.avi\n"
     ]
    }
   ],
   "source": [
    "all_label_folders = [dir for dir in os.listdir('labels') if 'Folder' in dir]\n",
    "print('reading...')\n",
    "for label_folder in all_label_folders:\n",
    "    video_path = f\"training_videos/{label_folder[7:]}.avi\"\n",
    "    if os.path.isfile(video_path):\n",
    "        print(video_path)\n",
    "        cap = cv2.VideoCapture(video_path)\n",
    "        length = int(cap.get(cv2.CAP_PROP_FRAME_COUNT))\n",
    "        frames = []\n",
    "        for i in range(length):\n",
    "            ret, frame = cap.read()\n",
    "            if ret:\n",
    "                frames.append(frame)\n",
    "        frames = np.array(frames)"
   ]
  },
  {
   "cell_type": "code",
   "execution_count": 32,
   "metadata": {},
   "outputs": [],
   "source": [
    "class VideoDataset:\n",
    "    def __init__(self, label_dir, video_dir, sep) -> None:\n",
    "        self.all_label_folders = [dir for dir in os.listdir(label_dir) if 'Folder' in dir]\n",
    "        self.label_dir = label_dir\n",
    "        self.video_dir = video_dir\n",
    "        self.sep = sep\n",
    "    \n",
    "    def __len__(self):\n",
    "        return len(self.all_label_folders)\n",
    "    \n",
    "    def __getitem__(self, idx):\n",
    "        folder_name = self.all_label_folders[idx]\n",
    "        video_path = f\"training_videos/{label_folder[7:]}.avi\"\n",
    "        if not os.path.isfile(video_path):\n",
    "            return None\n",
    "        cap = cv2.VideoCapture(video_path)\n",
    "        length = int(cap.get(cv2.CAP_PROP_FRAME_COUNT))\n",
    "        frames = []\n",
    "        for i in range(length):\n",
    "            ret, frame = cap.read()\n",
    "            if ret:\n",
    "                frames.append(frame)\n",
    "        frames = np.array(frames)\n",
    "        anno_path = os.path.join(self.label_dir, folder_name)\n",
    "        if not os.path.isdir(anno_path):\n",
    "            return None\n",
    "        anno_path = [path for path in os.listdir(anno_path) if (not '.zip' in path) and ('YOLO' in path)]\n",
    "        assert len(anno_path) == 0\n",
    "        anno_path = anno_path[0]\n",
    "        annos = []\n",
    "        for file in os.listdir(anno_path):\n",
    "            if not '.txt' in file:\n",
    "                continue\n",
    "            anno = {'labels':[], 'boxes':[]}\n",
    "            with open(file) as f:\n",
    "                lines = f.readlines()\n",
    "                for line in lines:\n",
    "                    ll = line.split(' ')\n",
    "                    anno['labels'].append(ll[0])\n",
    "                    anno['boxes'].append(ll[1:])\n",
    "            annos.append(anno)\n",
    "        all_annos = []\n",
    "        for i in range(length):\n",
    "            id = i/self.sep\n",
    "            all_annos.append(annos[id])\n",
    "        return frames, all_annos"
   ]
  }
 ],
 "metadata": {
  "interpreter": {
   "hash": "8ea83725a0d7e757f9aba8ea7bbb3168a22f298da9d6ed8cf70bc5ab2342cc11"
  },
  "kernelspec": {
   "display_name": "Python 3.9.7 64-bit ('ml-venv': venv)",
   "name": "python3"
  },
  "language_info": {
   "codemirror_mode": {
    "name": "ipython",
    "version": 3
   },
   "file_extension": ".py",
   "mimetype": "text/x-python",
   "name": "python",
   "nbconvert_exporter": "python",
   "pygments_lexer": "ipython3",
   "version": "3.9.7"
  },
  "orig_nbformat": 4
 },
 "nbformat": 4,
 "nbformat_minor": 2
}
