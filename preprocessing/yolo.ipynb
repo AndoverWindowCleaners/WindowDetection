{
 "cells": [
  {
   "cell_type": "code",
   "execution_count": 18,
   "source": [
    "import tensorflow as tf\r\n",
    "import os\r\n",
    "import numpy as np"
   ],
   "outputs": [],
   "metadata": {}
  },
  {
   "cell_type": "code",
   "execution_count": null,
   "source": [],
   "outputs": [],
   "metadata": {}
  },
  {
   "cell_type": "code",
   "execution_count": 63,
   "source": [
    "\r\n",
    "\r\n",
    "images_folder = \"../data/labels/\"\r\n",
    "\r\n",
    "for folder in os.listdir(images_folder):\r\n",
    "    if folder != '.DS_Store':\r\n",
    "        for filename in os.listdir(os.path.join(images_folder,folder)):\r\n",
    "            if filename.endswith(\"YOLO\"):\r\n",
    "                for _file in os.listdir(os.path.join(images_folder, folder, filename)):\r\n",
    "                    with open(os.path.join(images_folder, folder, filename,_file)) as f:\r\n",
    "                        for line in f:\r\n",
    "                            line = line.split()\r\n",
    "                            label = int(line[0])\r\n",
    "                            xmin = float(line[1])\r\n",
    "                            ymin = float(line[2])\r\n",
    "                            xmax = float(line[3]) + xmin\r\n",
    "                            ymax = float(line[4]) + ymin\r\n",
    "                            "
   ],
   "outputs": [],
   "metadata": {}
  },
  {
   "cell_type": "code",
   "execution_count": null,
   "source": [],
   "outputs": [],
   "metadata": {}
  },
  {
   "cell_type": "code",
   "execution_count": null,
   "source": [],
   "outputs": [],
   "metadata": {}
  }
 ],
 "metadata": {
  "orig_nbformat": 4,
  "language_info": {
   "name": "python",
   "version": "3.7.3",
   "mimetype": "text/x-python",
   "codemirror_mode": {
    "name": "ipython",
    "version": 3
   },
   "pygments_lexer": "ipython3",
   "nbconvert_exporter": "python",
   "file_extension": ".py"
  },
  "kernelspec": {
   "name": "python3",
   "display_name": "Python 3.7.3 64-bit"
  },
  "interpreter": {
   "hash": "185434fc73afca3cc44683ac2c590e2476425fe6c569ab9c54a39acad1aefc95"
  }
 },
 "nbformat": 4,
 "nbformat_minor": 2
}