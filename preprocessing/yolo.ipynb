{
 "cells": [
  {
   "cell_type": "code",
   "execution_count": 2,
   "source": [
    "import tensorflow as tf\r\n",
    "import os\r\n",
    "import numpy as np\r\n",
    "import cv2"
   ],
   "outputs": [],
   "metadata": {}
  },
  {
   "cell_type": "code",
   "execution_count": null,
   "source": [],
   "outputs": [],
   "metadata": {}
  },
  {
   "cell_type": "code",
   "execution_count": 36,
   "source": [
    "labels_folder = \"../data/labels/\"\r\n",
    "images_folder = \"../data/images/\"\r\n",
    "\r\n",
    "images = []\r\n",
    "labels = []\r\n",
    "\r\n",
    "for folder in os.listdir(labels_folder):\r\n",
    "    if folder != '.DS_Store':\r\n",
    "        for filename in os.listdir(os.path.join(labels_folder,folder)):\r\n",
    "            if filename.endswith(\"YOLO\"):\r\n",
    "                for _file in os.listdir(os.path.join(labels_folder, folder, filename)):\r\n",
    "                    with open(os.path.join(labels_folder, folder, filename,_file)) as f:\r\n",
    "                        lines = []\r\n",
    "                        for line in f:\r\n",
    "                            line = line.split()\r\n",
    "                            label = int(line[0])\r\n",
    "                            xmin = float(line[1])\r\n",
    "                            ymin = float(line[2])\r\n",
    "                            xmax = float(line[3]) + xmin\r\n",
    "                            ymax = float(line[4]) + ymin\r\n",
    "                            lines.append([label, xmin, ymin, xmax, ymax])\r\n",
    "                        lines = np.array(lines)\r\n",
    "                        labels.append(lines)\r\n",
    "                    images.append(cv2.imread(os.path.join(images_folder, folder, _file[:-3] + 'jpg'), cv2.IMREAD_GRAYSCALE))\r\n",
    "\r\n",
    "images = np.array(images)\r\n",
    "labels = np.array(labels, dtype=object)"
   ],
   "outputs": [],
   "metadata": {}
  },
  {
   "cell_type": "code",
   "execution_count": 37,
   "source": [
    "labels_tensor = tf.ragged.constant(labels)\r\n",
    "dataset = tf.data.Dataset.from_tensor_slices((images, labels_tensor))\r\n"
   ],
   "outputs": [
    {
     "output_type": "execute_result",
     "data": {
      "text/plain": [
       "(1029, 96, 128)"
      ]
     },
     "metadata": {},
     "execution_count": 37
    }
   ],
   "metadata": {}
  },
  {
   "cell_type": "code",
   "execution_count": null,
   "source": [],
   "outputs": [],
   "metadata": {}
  }
 ],
 "metadata": {
  "orig_nbformat": 4,
  "language_info": {
   "name": "python",
   "version": "3.7.3",
   "mimetype": "text/x-python",
   "codemirror_mode": {
    "name": "ipython",
    "version": 3
   },
   "pygments_lexer": "ipython3",
   "nbconvert_exporter": "python",
   "file_extension": ".py"
  },
  "kernelspec": {
   "name": "python3",
   "display_name": "Python 3.7.3 64-bit"
  },
  "interpreter": {
   "hash": "185434fc73afca3cc44683ac2c590e2476425fe6c569ab9c54a39acad1aefc95"
  }
 },
 "nbformat": 4,
 "nbformat_minor": 2
}