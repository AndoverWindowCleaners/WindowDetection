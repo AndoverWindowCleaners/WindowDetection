{
 "cells": [
  {
   "cell_type": "code",
   "execution_count": 6,
   "source": [
    "import tensorflow as tf\n",
    "import os\n",
    "import numpy as np\n",
    "import cv2"
   ],
   "outputs": [],
   "metadata": {}
  },
  {
   "cell_type": "code",
   "execution_count": 37,
   "source": [
    "labels_folder = \"../data/labels/\"\n",
    "images_folder = \"../data/images/\"\n",
    "\n",
    "images, labels = [], []\n",
    "\n",
    "for folder in os.listdir(labels_folder):\n",
    "    if folder != '.DS_Store':\n",
    "        for filename in os.listdir(f\"{labels_folder}{folder}\"):\n",
    "            if filename.endswith(\"YOLO\"):\n",
    "                for _file in os.listdir(f\"{labels_folder}{folder}/{filename}\"):\n",
    "                    with open(f\"{labels_folder}{folder}/{filename}/{_file}\") as f:\n",
    "                        lines = []\n",
    "                        for line in f:\n",
    "                            line = line.split()\n",
    "                            label, rest = int(line[0]), line[1:]\n",
    "                            xmin, ymin, xmax, ymax = map(float, rest)\n",
    "                            lines.append([label, xmin, ymin, xmax+xmin, ymax+ymin])\n",
    "                        lines = np.array(lines)\n",
    "                        labels.append(lines)\n",
    "                    images.append(cv2.imread(f\"{images_folder}{folder}{_file[:-3]}jpg\", cv2.IMREAD_GRAYSCALE))\n",
    "\n",
    "images = np.array(images)\n",
    "labels = np.array(labels, dtype=object)"
   ],
   "outputs": [],
   "metadata": {}
  },
  {
   "cell_type": "code",
   "execution_count": 8,
   "source": [
    "labels_tensor = tf.ragged.constant(labels)\n",
    "dataset = tf.data.Dataset.from_tensor_slices((images, labels_tensor))\n"
   ],
   "outputs": [
    {
     "output_type": "stream",
     "name": "stderr",
     "text": [
      "2021-09-20 15:07:25.925475: I tensorflow/core/platform/cpu_feature_guard.cc:142] This TensorFlow binary is optimized with oneAPI Deep Neural Network Library (oneDNN) to use the following CPU instructions in performance-critical operations:  AVX2 FMA\n",
      "To enable them in other operations, rebuild TensorFlow with the appropriate compiler flags.\n"
     ]
    }
   ],
   "metadata": {}
  }
 ],
 "metadata": {
  "orig_nbformat": 4,
  "language_info": {
   "name": "python",
   "version": "3.8.3",
   "mimetype": "text/x-python",
   "codemirror_mode": {
    "name": "ipython",
    "version": 3
   },
   "pygments_lexer": "ipython3",
   "nbconvert_exporter": "python",
   "file_extension": ".py"
  },
  "kernelspec": {
   "name": "python3",
   "display_name": "Python 3.8.3 64-bit"
  },
  "interpreter": {
   "hash": "aee8b7b246df8f9039afb4144a1f6fd8d2ca17a180786b69acc140d282b71a49"
  }
 },
 "nbformat": 4,
 "nbformat_minor": 2
}