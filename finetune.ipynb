{
 "cells": [
  {
   "cell_type": "code",
   "execution_count": 1,
   "metadata": {},
   "outputs": [],
   "source": [
    "from tools.data_reading import CompressedWindowDataset\n",
    "import torch\n",
    "from torch import nn\n",
    "from torchvision import transforms\n",
    "from torch.utils.data import DataLoader\n",
    "from tools import utils\n",
    "from tools.engine import train_one_epoch, evaluate\n",
    "from model_zoo.InputInjection import InputInjection\n",
    "from torch.utils.tensorboard import SummaryWriter"
   ]
  },
  {
   "cell_type": "code",
   "execution_count": 2,
   "metadata": {},
   "outputs": [
    {
     "name": "stdout",
     "output_type": "stream",
     "text": [
      "torch.Size([2197, 24, 9, 12])\n",
      "torch.Size([2197, 3, 96, 128])\n",
      "2197\n"
     ]
    }
   ],
   "source": [
    "dataset = CompressedWindowDataset()\n",
    "img, spectr, lab = dataset[0]\n",
    "# the ones with missing end labels are missing (just make code to fill labels!)"
   ]
  },
  {
   "cell_type": "code",
   "execution_count": null,
   "metadata": {},
   "outputs": [],
   "source": [
    "for i in range(len(dataset)):\n",
    "    x = dataset[i]"
   ]
  },
  {
   "cell_type": "code",
   "execution_count": 3,
   "metadata": {},
   "outputs": [],
   "source": [
    "train = DataLoader(dataset,batch_size = 1, shuffle=True, collate_fn=utils.collate_fn)"
   ]
  },
  {
   "cell_type": "code",
   "execution_count": null,
   "metadata": {},
   "outputs": [],
   "source": [
    "img, spectr, lab = next(iter(train))\n",
    "img = torch.unsqueeze(img[0], 0).float()\n",
    "spectr = torch.unsqueeze(spectr[0], 0).float()"
   ]
  },
  {
   "cell_type": "code",
   "execution_count": null,
   "metadata": {},
   "outputs": [],
   "source": [
    "print(img.shape)\n",
    "print(spectr.shape)\n",
    "print(lab)"
   ]
  },
  {
   "cell_type": "code",
   "execution_count": 4,
   "metadata": {},
   "outputs": [
    {
     "name": "stdout",
     "output_type": "stream",
     "text": [
      "running on cuda\n"
     ]
    }
   ],
   "source": [
    "model = InputInjection()\n",
    "device = torch.device('cuda') if torch.cuda.is_available() else torch.device('cpu')\n",
    "print(f'running on {device}')\n",
    "if device == 'cuda':\n",
    "    device_id = torch.cuda.current_device()\n",
    "    print(f'using gpu {torch.cuda.get_device_name(device_id)}')\n",
    "model.to(device)\n",
    "writer = SummaryWriter()\n",
    "params = [p for p in model.parameters() if p.requires_grad]\n",
    "optimizer = torch.optim.Adam(params,lr=0.00003)"
   ]
  },
  {
   "cell_type": "code",
   "execution_count": 5,
   "metadata": {},
   "outputs": [
    {
     "name": "stderr",
     "output_type": "stream",
     "text": [
      "C:\\ProgramData\\Miniconda3\\lib\\site-packages\\torch\\nn\\functional.py:3609: UserWarning: Default upsampling behavior when mode=bilinear is changed to align_corners=False since 0.4.0. Please specify align_corners=True if the old behavior is desired. See the documentation of nn.Upsample for details.\n",
      "  warnings.warn(\n"
     ]
    },
    {
     "name": "stdout",
     "output_type": "stream",
     "text": [
      "Epoch: [0]  [   0/2197]  eta: 0:44:19  lr: 0.000030  loss: 13.6978 (13.6978)  loss_classifier: 9.8186 (9.8186)  loss_box_reg: 0.4710 (0.4710)  loss_objectness: 1.7654 (1.7654)  loss_rpn_box_reg: 1.6428 (1.6428)  time: 1.2107  data: 0.0010  max mem: 1499\n",
      "Epoch: [0]  [ 100/2197]  eta: 0:05:56  lr: 0.000030  loss: 2.6498 (5.6000)  loss_classifier: 0.3484 (2.0143)  loss_box_reg: 1.2837 (2.2171)  loss_objectness: 0.0601 (0.2452)  loss_rpn_box_reg: 0.5484 (1.1234)  time: 0.1594  data: 0.0001  max mem: 1614\n",
      "Epoch: [0]  [ 200/2197]  eta: 0:05:03  lr: 0.000030  loss: 2.8057 (4.5104)  loss_classifier: 0.3906 (1.4733)  loss_box_reg: 0.9850 (1.8958)  loss_objectness: 0.0522 (0.1824)  loss_rpn_box_reg: 0.6726 (0.9589)  time: 0.1759  data: 0.0001  max mem: 1614\n",
      "Epoch: [0]  [ 300/2197]  eta: 0:04:43  lr: 0.000030  loss: 2.3938 (3.9496)  loss_classifier: 0.4023 (1.2025)  loss_box_reg: 1.0628 (1.6946)  loss_objectness: 0.0509 (0.1548)  loss_rpn_box_reg: 0.5796 (0.8977)  time: 0.1442  data: 0.0000  max mem: 1614\n",
      "Epoch: [0]  [ 400/2197]  eta: 0:04:22  lr: 0.000030  loss: 1.6884 (3.5774)  loss_classifier: 0.1570 (0.9895)  loss_box_reg: 0.7117 (1.5924)  loss_objectness: 0.0463 (0.1420)  loss_rpn_box_reg: 0.6550 (0.8535)  time: 0.0955  data: 0.0001  max mem: 1614\n",
      "Epoch: [0]  [ 500/2197]  eta: 0:04:08  lr: 0.000030  loss: 1.9867 (3.4861)  loss_classifier: 0.4217 (0.9935)  loss_box_reg: 0.8366 (1.4625)  loss_objectness: 0.0585 (0.1662)  loss_rpn_box_reg: 0.7613 (0.8639)  time: 0.1132  data: 0.0001  max mem: 1614\n",
      "Epoch: [0]  [ 600/2197]  eta: 0:03:50  lr: 0.000030  loss: 1.5492 (3.3617)  loss_classifier: 0.1117 (0.9170)  loss_box_reg: 0.5499 (1.4039)  loss_objectness: 0.0442 (0.1618)  loss_rpn_box_reg: 0.6721 (0.8789)  time: 0.1248  data: 0.0002  max mem: 1614\n",
      "Epoch: [0]  [ 700/2197]  eta: 0:03:34  lr: 0.000030  loss: 2.0305 (3.2636)  loss_classifier: 0.1089 (0.8604)  loss_box_reg: 0.7810 (1.3383)  loss_objectness: 0.0582 (0.1644)  loss_rpn_box_reg: 0.5627 (0.9005)  time: 0.1122  data: 0.0000  max mem: 1614\n",
      "Epoch: [0]  [ 800/2197]  eta: 0:03:16  lr: 0.000030  loss: 1.0617 (3.0527)  loss_classifier: 0.1717 (0.7968)  loss_box_reg: 0.3728 (1.2534)  loss_objectness: 0.0308 (0.1518)  loss_rpn_box_reg: 0.3128 (0.8507)  time: 0.0800  data: 0.0001  max mem: 1614\n",
      "Epoch: [0]  [ 900/2197]  eta: 0:03:04  lr: 0.000030  loss: 1.1985 (2.8708)  loss_classifier: 0.1165 (0.7243)  loss_box_reg: 0.4654 (1.1586)  loss_objectness: 0.0406 (0.1460)  loss_rpn_box_reg: 0.5532 (0.8419)  time: 0.1911  data: 0.0001  max mem: 1614\n",
      "Epoch: [0]  [1000/2197]  eta: 0:02:50  lr: 0.000030  loss: 1.3651 (2.7825)  loss_classifier: 0.1172 (0.7019)  loss_box_reg: 0.4397 (1.1026)  loss_objectness: 0.0488 (0.1416)  loss_rpn_box_reg: 0.7883 (0.8365)  time: 0.1915  data: 0.0003  max mem: 1614\n",
      "Epoch: [0]  [1100/2197]  eta: 0:02:34  lr: 0.000030  loss: 0.8902 (2.6844)  loss_classifier: 0.0762 (0.6647)  loss_box_reg: 0.2929 (1.0584)  loss_objectness: 0.0467 (0.1394)  loss_rpn_box_reg: 0.3447 (0.8219)  time: 0.1117  data: 0.0000  max mem: 1614\n",
      "Epoch: [0]  [1200/2197]  eta: 0:02:18  lr: 0.000030  loss: 0.8766 (2.6018)  loss_classifier: 0.0780 (0.6336)  loss_box_reg: 0.3263 (1.0145)  loss_objectness: 0.0548 (0.1396)  loss_rpn_box_reg: 0.3350 (0.8140)  time: 0.0643  data: 0.0001  max mem: 1614\n",
      "Epoch: [0]  [1300/2197]  eta: 0:02:05  lr: 0.000030  loss: 1.3792 (2.5228)  loss_classifier: 0.2105 (0.6063)  loss_box_reg: 0.7739 (0.9990)  loss_objectness: 0.0376 (0.1349)  loss_rpn_box_reg: 0.3918 (0.7827)  time: 0.1286  data: 0.0000  max mem: 1614\n",
      "Epoch: [0]  [1400/2197]  eta: 0:01:52  lr: 0.000030  loss: 1.0648 (2.4285)  loss_classifier: 0.1613 (0.5799)  loss_box_reg: 0.3744 (0.9609)  loss_objectness: 0.0284 (0.1321)  loss_rpn_box_reg: 0.5046 (0.7557)  time: 0.1121  data: 0.0001  max mem: 1614\n",
      "Epoch: [0]  [1500/2197]  eta: 0:01:39  lr: 0.000030  loss: 0.8207 (2.3792)  loss_classifier: 0.0912 (0.5549)  loss_box_reg: 0.2251 (0.9216)  loss_objectness: 0.0312 (0.1484)  loss_rpn_box_reg: 0.2984 (0.7544)  time: 0.1920  data: 0.0002  max mem: 1614\n",
      "Epoch: [0]  [1600/2197]  eta: 0:01:24  lr: 0.000030  loss: 0.8531 (2.2978)  loss_classifier: 0.0842 (0.5322)  loss_box_reg: 0.3086 (0.8856)  loss_objectness: 0.0510 (0.1451)  loss_rpn_box_reg: 0.3666 (0.7349)  time: 0.1444  data: 0.0003  max mem: 1614\n",
      "Epoch: [0]  [1700/2197]  eta: 0:01:10  lr: 0.000030  loss: 0.9365 (2.2256)  loss_classifier: 0.0867 (0.5105)  loss_box_reg: 0.3483 (0.8504)  loss_objectness: 0.0273 (0.1393)  loss_rpn_box_reg: 0.4118 (0.7254)  time: 0.1922  data: 0.0002  max mem: 1614\n",
      "Epoch: [0]  [1800/2197]  eta: 0:00:56  lr: 0.000030  loss: 0.9617 (2.2006)  loss_classifier: 0.0957 (0.5048)  loss_box_reg: 0.2425 (0.8303)  loss_objectness: 0.0333 (0.1374)  loss_rpn_box_reg: 0.4532 (0.7280)  time: 0.1922  data: 0.0002  max mem: 1614\n",
      "Epoch: [0]  [1900/2197]  eta: 0:00:42  lr: 0.000030  loss: 1.1573 (2.1686)  loss_classifier: 0.0707 (0.4913)  loss_box_reg: 0.2119 (0.8093)  loss_objectness: 0.0474 (0.1379)  loss_rpn_box_reg: 0.5360 (0.7302)  time: 0.1290  data: 0.0001  max mem: 1614\n",
      "Epoch: [0]  [2000/2197]  eta: 0:00:27  lr: 0.000030  loss: 0.7955 (2.1304)  loss_classifier: 0.0893 (0.4793)  loss_box_reg: 0.1846 (0.7876)  loss_objectness: 0.0308 (0.1353)  loss_rpn_box_reg: 0.2450 (0.7283)  time: 0.0799  data: 0.0000  max mem: 1614\n",
      "Epoch: [0]  [2100/2197]  eta: 0:00:13  lr: 0.000030  loss: 0.8659 (2.0909)  loss_classifier: 0.0782 (0.4693)  loss_box_reg: 0.2711 (0.7679)  loss_objectness: 0.0339 (0.1320)  loss_rpn_box_reg: 0.4136 (0.7217)  time: 0.1443  data: 0.0001  max mem: 1614\n",
      "Epoch: [0]  [2196/2197]  eta: 0:00:00  lr: 0.000030  loss: 0.8764 (2.0465)  loss_classifier: 0.1082 (0.4552)  loss_box_reg: 0.2086 (0.7464)  loss_objectness: 0.0347 (0.1293)  loss_rpn_box_reg: 0.5285 (0.7157)  time: 0.1603  data: 0.0001  max mem: 1614\n",
      "Epoch: [0] Total time: 0:05:10 (0.1411 s / it)\n"
     ]
    },
    {
     "ename": "AttributeError",
     "evalue": "'CompressedWindowDataset' object has no attribute 'coco'",
     "output_type": "error",
     "traceback": [
      "\u001b[1;31m---------------------------------------------------------------------------\u001b[0m",
      "\u001b[1;31mAttributeError\u001b[0m                            Traceback (most recent call last)",
      "\u001b[1;32m~\\AppData\\Local\\Temp/ipykernel_7148/436876394.py\u001b[0m in \u001b[0;36m<module>\u001b[1;34m\u001b[0m\n\u001b[0;32m      2\u001b[0m \u001b[1;32mfor\u001b[0m \u001b[0mepoch\u001b[0m \u001b[1;32min\u001b[0m \u001b[0mrange\u001b[0m\u001b[1;33m(\u001b[0m\u001b[0mnum_epochs\u001b[0m\u001b[1;33m)\u001b[0m\u001b[1;33m:\u001b[0m\u001b[1;33m\u001b[0m\u001b[1;33m\u001b[0m\u001b[0m\n\u001b[0;32m      3\u001b[0m     \u001b[0mtrain_one_epoch\u001b[0m\u001b[1;33m(\u001b[0m\u001b[0mwriter\u001b[0m\u001b[1;33m,\u001b[0m \u001b[0mmodel\u001b[0m\u001b[1;33m,\u001b[0m \u001b[0moptimizer\u001b[0m\u001b[1;33m,\u001b[0m \u001b[0mtrain\u001b[0m\u001b[1;33m,\u001b[0m \u001b[0mdevice\u001b[0m\u001b[1;33m,\u001b[0m \u001b[0mepoch\u001b[0m\u001b[1;33m,\u001b[0m \u001b[0mprint_freq\u001b[0m\u001b[1;33m=\u001b[0m\u001b[1;36m100\u001b[0m\u001b[1;33m)\u001b[0m\u001b[1;33m\u001b[0m\u001b[1;33m\u001b[0m\u001b[0m\n\u001b[1;32m----> 4\u001b[1;33m     \u001b[0mevaluate\u001b[0m\u001b[1;33m(\u001b[0m\u001b[0mwriter\u001b[0m\u001b[1;33m,\u001b[0m \u001b[0mmodel\u001b[0m\u001b[1;33m,\u001b[0m \u001b[0mtrain\u001b[0m\u001b[1;33m,\u001b[0m \u001b[0mdevice\u001b[0m\u001b[1;33m,\u001b[0m \u001b[0mprint_freq\u001b[0m\u001b[1;33m=\u001b[0m\u001b[1;36m100\u001b[0m\u001b[1;33m)\u001b[0m\u001b[1;33m\u001b[0m\u001b[1;33m\u001b[0m\u001b[0m\n\u001b[0m\u001b[0;32m      5\u001b[0m     \u001b[0mtorch\u001b[0m\u001b[1;33m.\u001b[0m\u001b[0msave\u001b[0m\u001b[1;33m(\u001b[0m\u001b[0mmodel\u001b[0m\u001b[1;33m.\u001b[0m\u001b[0mstate_dict\u001b[0m\u001b[1;33m(\u001b[0m\u001b[1;33m)\u001b[0m\u001b[1;33m,\u001b[0m \u001b[1;34mf'inputinjection-train-1.weights'\u001b[0m\u001b[1;33m)\u001b[0m\u001b[1;33m\u001b[0m\u001b[1;33m\u001b[0m\u001b[0m\n",
      "\u001b[1;32mC:\\ProgramData\\Miniconda3\\lib\\site-packages\\torch\\autograd\\grad_mode.py\u001b[0m in \u001b[0;36mdecorate_context\u001b[1;34m(*args, **kwargs)\u001b[0m\n\u001b[0;32m     26\u001b[0m         \u001b[1;32mdef\u001b[0m \u001b[0mdecorate_context\u001b[0m\u001b[1;33m(\u001b[0m\u001b[1;33m*\u001b[0m\u001b[0margs\u001b[0m\u001b[1;33m,\u001b[0m \u001b[1;33m**\u001b[0m\u001b[0mkwargs\u001b[0m\u001b[1;33m)\u001b[0m\u001b[1;33m:\u001b[0m\u001b[1;33m\u001b[0m\u001b[1;33m\u001b[0m\u001b[0m\n\u001b[0;32m     27\u001b[0m             \u001b[1;32mwith\u001b[0m \u001b[0mself\u001b[0m\u001b[1;33m.\u001b[0m\u001b[0m__class__\u001b[0m\u001b[1;33m(\u001b[0m\u001b[1;33m)\u001b[0m\u001b[1;33m:\u001b[0m\u001b[1;33m\u001b[0m\u001b[1;33m\u001b[0m\u001b[0m\n\u001b[1;32m---> 28\u001b[1;33m                 \u001b[1;32mreturn\u001b[0m \u001b[0mfunc\u001b[0m\u001b[1;33m(\u001b[0m\u001b[1;33m*\u001b[0m\u001b[0margs\u001b[0m\u001b[1;33m,\u001b[0m \u001b[1;33m**\u001b[0m\u001b[0mkwargs\u001b[0m\u001b[1;33m)\u001b[0m\u001b[1;33m\u001b[0m\u001b[1;33m\u001b[0m\u001b[0m\n\u001b[0m\u001b[0;32m     29\u001b[0m         \u001b[1;32mreturn\u001b[0m \u001b[0mcast\u001b[0m\u001b[1;33m(\u001b[0m\u001b[0mF\u001b[0m\u001b[1;33m,\u001b[0m \u001b[0mdecorate_context\u001b[0m\u001b[1;33m)\u001b[0m\u001b[1;33m\u001b[0m\u001b[1;33m\u001b[0m\u001b[0m\n\u001b[0;32m     30\u001b[0m \u001b[1;33m\u001b[0m\u001b[0m\n",
      "\u001b[1;32mc:\\Users\\123\\Desktop\\ProjectData\\WindowDetection\\tools\\engine.py\u001b[0m in \u001b[0;36mevaluate\u001b[1;34m(writer, model, data_loader, device, print_freq)\u001b[0m\n\u001b[0;32m     70\u001b[0m     \u001b[0mheader\u001b[0m \u001b[1;33m=\u001b[0m \u001b[1;34m'Test:'\u001b[0m\u001b[1;33m\u001b[0m\u001b[1;33m\u001b[0m\u001b[0m\n\u001b[0;32m     71\u001b[0m \u001b[1;33m\u001b[0m\u001b[0m\n\u001b[1;32m---> 72\u001b[1;33m     \u001b[0mcoco\u001b[0m \u001b[1;33m=\u001b[0m \u001b[0mget_coco_api_from_dataset\u001b[0m\u001b[1;33m(\u001b[0m\u001b[0mdata_loader\u001b[0m\u001b[1;33m.\u001b[0m\u001b[0mdataset\u001b[0m\u001b[1;33m)\u001b[0m\u001b[1;33m\u001b[0m\u001b[1;33m\u001b[0m\u001b[0m\n\u001b[0m\u001b[0;32m     73\u001b[0m     \u001b[0miou_types\u001b[0m \u001b[1;33m=\u001b[0m \u001b[0m_get_iou_types\u001b[0m\u001b[1;33m(\u001b[0m\u001b[0mmodel\u001b[0m\u001b[1;33m)\u001b[0m\u001b[1;33m\u001b[0m\u001b[1;33m\u001b[0m\u001b[0m\n\u001b[0;32m     74\u001b[0m     \u001b[0mcoco_evaluator\u001b[0m \u001b[1;33m=\u001b[0m \u001b[0mCocoEvaluator\u001b[0m\u001b[1;33m(\u001b[0m\u001b[0mcoco\u001b[0m\u001b[1;33m,\u001b[0m \u001b[0miou_types\u001b[0m\u001b[1;33m)\u001b[0m\u001b[1;33m\u001b[0m\u001b[1;33m\u001b[0m\u001b[0m\n",
      "\u001b[1;32mc:\\Users\\123\\Desktop\\ProjectData\\WindowDetection\\tools\\coco_utils.py\u001b[0m in \u001b[0;36mget_coco_api_from_dataset\u001b[1;34m(dataset)\u001b[0m\n\u001b[0;32m    203\u001b[0m             \u001b[0mdataset\u001b[0m \u001b[1;33m=\u001b[0m \u001b[0mdataset\u001b[0m\u001b[1;33m.\u001b[0m\u001b[0mdataset\u001b[0m\u001b[1;33m\u001b[0m\u001b[1;33m\u001b[0m\u001b[0m\n\u001b[0;32m    204\u001b[0m     \u001b[1;32mif\u001b[0m \u001b[0misinstance\u001b[0m\u001b[1;33m(\u001b[0m\u001b[0mdataset\u001b[0m\u001b[1;33m,\u001b[0m \u001b[0mtorchvision\u001b[0m\u001b[1;33m.\u001b[0m\u001b[0mdatasets\u001b[0m\u001b[1;33m.\u001b[0m\u001b[0mCocoDetection\u001b[0m\u001b[1;33m)\u001b[0m\u001b[1;33m:\u001b[0m\u001b[1;33m\u001b[0m\u001b[1;33m\u001b[0m\u001b[0m\n\u001b[1;32m--> 205\u001b[1;33m         \u001b[1;32mreturn\u001b[0m \u001b[0mdataset\u001b[0m\u001b[1;33m.\u001b[0m\u001b[0mcoco\u001b[0m\u001b[1;33m\u001b[0m\u001b[1;33m\u001b[0m\u001b[0m\n\u001b[0m\u001b[0;32m    206\u001b[0m     \u001b[1;32mreturn\u001b[0m \u001b[0mconvert_to_coco_api\u001b[0m\u001b[1;33m(\u001b[0m\u001b[0mdataset\u001b[0m\u001b[1;33m)\u001b[0m\u001b[1;33m\u001b[0m\u001b[1;33m\u001b[0m\u001b[0m\n\u001b[0;32m    207\u001b[0m \u001b[1;33m\u001b[0m\u001b[0m\n",
      "\u001b[1;31mAttributeError\u001b[0m: 'CompressedWindowDataset' object has no attribute 'coco'"
     ]
    }
   ],
   "source": [
    "num_epochs = 10\n",
    "for epoch in range(num_epochs):\n",
    "    train_one_epoch(writer, model, optimizer, train, device, epoch, print_freq=100)\n",
    "    evaluate(writer, model, train, device, print_freq=100)\n",
    "    torch.save(model.state_dict(), f'inputinjection-train-1.weights')"
   ]
  },
  {
   "cell_type": "code",
   "execution_count": null,
   "metadata": {},
   "outputs": [],
   "source": []
  }
 ],
 "metadata": {
  "interpreter": {
   "hash": "ecf5722fdaf1897a315d257d89d94520bfcaa453217d5becf09b39e73618b0de"
  },
  "kernelspec": {
   "display_name": "Python 3.9.5 64-bit ('base': conda)",
   "name": "python3"
  },
  "language_info": {
   "codemirror_mode": {
    "name": "ipython",
    "version": 3
   },
   "file_extension": ".py",
   "mimetype": "text/x-python",
   "name": "python",
   "nbconvert_exporter": "python",
   "pygments_lexer": "ipython3",
   "version": "3.8.11"
  },
  "orig_nbformat": 4
 },
 "nbformat": 4,
 "nbformat_minor": 2
}
