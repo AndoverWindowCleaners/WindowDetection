{
 "cells": [
  {
   "cell_type": "code",
   "execution_count": 1,
   "source": [
    "from tools.data_reading import WindowDataset\n",
    "import torch\n",
    "from torch import nn"
   ],
   "outputs": [],
   "metadata": {}
  },
  {
   "cell_type": "code",
   "execution_count": 3,
   "source": [
    "dataset = WindowDataset()\n",
    "print(dataset[0])\n",
    "len(dataset[0])"
   ],
   "outputs": [
    {
     "output_type": "stream",
     "name": "stdout",
     "text": [
      "(tensor([[[ 46.,  46.,  46.,  ...,  92.,  89.,  92.],\n",
      "         [ 44.,  45.,  45.,  ...,  88.,  91.,  92.],\n",
      "         [ 41.,  42.,  42.,  ..., 137., 107.,  91.],\n",
      "         ...,\n",
      "         [ 54.,  56.,  58.,  ..., 114.,  85.,  55.],\n",
      "         [ 50.,  53.,  56.,  ...,  53.,  32.,  16.],\n",
      "         [ 56.,  57.,  58.,  ...,   8.,  14.,  22.]],\n",
      "\n",
      "        [[ 90.,  90.,  90.,  ..., 105., 101., 102.],\n",
      "         [ 88.,  89.,  89.,  ..., 104., 104., 104.],\n",
      "         [ 83.,  84.,  86.,  ..., 156., 124., 108.],\n",
      "         ...,\n",
      "         [106., 108., 110.,  ..., 207., 180., 150.],\n",
      "         [102., 105., 108.,  ..., 144., 120., 104.],\n",
      "         [108., 109., 110.,  ...,  96., 101., 109.]],\n",
      "\n",
      "        [[ 77.,  77.,  77.,  ...,  95.,  89.,  91.],\n",
      "         [ 75.,  76.,  76.,  ...,  94.,  94.,  94.],\n",
      "         [ 71.,  72.,  73.,  ..., 150., 118., 102.],\n",
      "         ...,\n",
      "         [ 93.,  95.,  97.,  ..., 225., 200., 170.],\n",
      "         [ 89.,  92.,  95.,  ..., 163., 140., 124.],\n",
      "         [ 95.,  96.,  97.,  ..., 116., 121., 129.]]], dtype=torch.float64), {'boxes': tensor([[ 64.,  48., 127.,  95.]]), 'labels': tensor([1])})\n"
     ]
    },
    {
     "output_type": "execute_result",
     "data": {
      "text/plain": [
       "2"
      ]
     },
     "metadata": {},
     "execution_count": 3
    }
   ],
   "metadata": {}
  },
  {
   "cell_type": "code",
   "execution_count": null,
   "source": [],
   "outputs": [],
   "metadata": {}
  }
 ],
 "metadata": {
  "orig_nbformat": 4,
  "language_info": {
   "name": "python",
   "version": "3.9.7",
   "mimetype": "text/x-python",
   "codemirror_mode": {
    "name": "ipython",
    "version": 3
   },
   "pygments_lexer": "ipython3",
   "nbconvert_exporter": "python",
   "file_extension": ".py"
  },
  "kernelspec": {
   "name": "python3",
   "display_name": "Python 3.9.7 64-bit ('ml-venv': venv)"
  },
  "interpreter": {
   "hash": "9e18352fe61ca699d23a1ad95306b1cb7f348970ceaca7c655580a6420f95203"
  }
 },
 "nbformat": 4,
 "nbformat_minor": 2
}