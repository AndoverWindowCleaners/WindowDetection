{
 "cells": [
  {
   "cell_type": "code",
   "execution_count": 14,
   "metadata": {},
   "outputs": [],
   "source": [
    "import torch\n",
    "from data_reading import WindowDataset\n",
    "import os\n",
    "import cv2\n",
    "import numpy as np\n",
    "from scipy import signal\n",
    "import pickle"
   ]
  },
  {
   "cell_type": "code",
   "execution_count": 15,
   "metadata": {},
   "outputs": [],
   "source": [
    "image_width = 128\n",
    "image_height = 96\n",
    "labels_folder = '../data/labels/'\n",
    "imgs_folder = '../data/images/'\n",
    "video_folder = '../data/training_videos/'\n",
    "spectr_folder = '../data/spectrograms/'"
   ]
  },
  {
   "cell_type": "code",
   "execution_count": 16,
   "metadata": {},
   "outputs": [],
   "source": [
    "all_folders_img = set([dir for dir in os.listdir(labels_folder) if 'NW' in dir or 'W' in dir])\n",
    "all_folders_lab = set([dir for dir in os.listdir(imgs_folder) if 'NW' in dir or 'W' in dir])\n",
    "all_folders_video = set(['Folder '+dir.split('.')[0] for dir in os.listdir(video_folder) if 'NW' in dir or 'W' in dir])\n",
    "all_folders = list(all_folders_img.intersection(all_folders_lab).intersection(all_folders_video))"
   ]
  },
  {
   "cell_type": "code",
   "execution_count": 17,
   "metadata": {},
   "outputs": [
    {
     "name": "stdout",
     "output_type": "stream",
     "text": [
      "['Folder 24 W', 'Folder 29 W', 'Folder 18 NW', 'Folder 39 W', 'Folder 8 W', 'Folder 28 W', 'Folder 3 NW', 'Folder 6 NW', 'Folder 4 NW', 'Folder 19 NW', 'Folder 22 NW', 'Folder 10 W', 'Folder 31 NW', 'Folder 21 W', 'Folder 5 NW', 'Folder 17 NW', 'Folder 35 W', 'Folder 9 W', 'Folder 26 NW', 'Folder 37 W', 'Folder 2 NW', 'Folder 7 W', 'Folder 36 NW', 'Folder 30 NW', 'Folder 38 W', 'Folder 23 W', 'Folder 12 NW', 'Folder 16 NW', 'Folder 32 NW', 'Folder 20 W', 'Folder 33 W', 'Folder 25 W', 'Folder 27 W']\n"
     ]
    }
   ],
   "source": [
    "print(all_folders)"
   ]
  },
  {
   "cell_type": "code",
   "execution_count": 18,
   "metadata": {},
   "outputs": [],
   "source": [
    "dataset = WindowDataset(video_folder, labels_folder, imgs_folder)"
   ]
  },
  {
   "cell_type": "code",
   "execution_count": 19,
   "metadata": {},
   "outputs": [
    {
     "name": "stdout",
     "output_type": "stream",
     "text": [
      "19.066666666666666\n",
      "(8, 3, 9, 12, 559)\n",
      "torch.Size([56, 9, 12, 24])\n",
      "29.866666666666667\n",
      "(8, 3, 9, 12, 883)\n",
      "torch.Size([88, 9, 12, 24])\n",
      "30.033333333333335\n",
      "(8, 3, 9, 12, 888)\n",
      "torch.Size([89, 9, 12, 24])\n",
      "19.033333333333335\n",
      "(8, 3, 9, 12, 558)\n",
      "torch.Size([56, 9, 12, 24])\n",
      "9.866666666666667\n",
      "(8, 3, 9, 12, 283)\n",
      "torch.Size([28, 9, 12, 24])\n",
      "29.8\n",
      "(8, 3, 9, 12, 881)\n",
      "torch.Size([88, 9, 12, 24])\n",
      "19.433333333333334\n",
      "(8, 3, 9, 12, 570)\n",
      "torch.Size([53, 9, 12, 24])\n",
      "26.866666666666667\n",
      "(8, 3, 9, 12, 793)\n",
      "torch.Size([79, 9, 12, 24])\n",
      "14.466666666666667\n",
      "(8, 3, 9, 12, 421)\n",
      "19.2\n",
      "(8, 3, 9, 12, 563)\n",
      "torch.Size([56, 9, 12, 24])\n",
      "30.033333333333335\n",
      "(8, 3, 9, 12, 888)\n",
      "torch.Size([89, 9, 12, 24])\n",
      "12.9\n",
      "(8, 3, 9, 12, 374)\n",
      "torch.Size([37, 9, 12, 24])\n",
      "29.833333333333332\n",
      "(8, 3, 9, 12, 882)\n",
      "torch.Size([88, 9, 12, 24])\n",
      "30.0\n",
      "(8, 3, 9, 12, 887)\n",
      "torch.Size([88, 9, 12, 24])\n",
      "29.233333333333334\n",
      "(8, 3, 9, 12, 864)\n",
      "torch.Size([86, 9, 12, 24])\n",
      "18.866666666666667\n",
      "(8, 3, 9, 12, 553)\n",
      "torch.Size([55, 9, 12, 24])\n",
      "19.133333333333333\n",
      "(8, 3, 9, 12, 561)\n",
      "torch.Size([56, 9, 12, 24])\n",
      "29.766666666666666\n",
      "(8, 3, 9, 12, 880)\n",
      "torch.Size([88, 9, 12, 24])\n",
      "18.966666666666665\n",
      "(8, 3, 9, 12, 556)\n",
      "torch.Size([55, 9, 12, 24])\n",
      "29.666666666666668\n",
      "(8, 3, 9, 12, 877)\n",
      "18.566666666666666\n",
      "(8, 3, 9, 12, 544)\n",
      "torch.Size([54, 9, 12, 24])\n",
      "14.966666666666667\n",
      "(8, 3, 9, 12, 436)\n",
      "torch.Size([43, 9, 12, 24])\n",
      "30.033333333333335\n",
      "(8, 3, 9, 12, 888)\n",
      "torch.Size([89, 9, 12, 24])\n",
      "29.8\n",
      "(8, 3, 9, 12, 881)\n",
      "29.866666666666667\n",
      "(8, 3, 9, 12, 883)\n",
      "torch.Size([88, 9, 12, 24])\n",
      "18.733333333333334\n",
      "(8, 3, 9, 12, 549)\n",
      "torch.Size([55, 9, 12, 24])\n",
      "18.7\n",
      "(8, 3, 9, 12, 548)\n",
      "torch.Size([55, 9, 12, 24])\n",
      "23.966666666666665\n",
      "(8, 3, 9, 12, 706)\n",
      "torch.Size([70, 9, 12, 24])\n",
      "30.0\n",
      "(8, 3, 9, 12, 887)\n",
      "torch.Size([88, 9, 12, 24])\n",
      "29.833333333333332\n",
      "(8, 3, 9, 12, 882)\n",
      "19.866666666666667\n",
      "(8, 3, 9, 12, 583)\n",
      "torch.Size([58, 9, 12, 24])\n",
      "18.833333333333332\n",
      "(8, 3, 9, 12, 552)\n",
      "torch.Size([55, 9, 12, 24])\n",
      "29.733333333333334\n",
      "(8, 3, 9, 12, 879)\n",
      "29.766666666666666\n",
      "(8, 3, 9, 12, 880)\n",
      "18.633333333333333\n",
      "(8, 3, 9, 12, 546)\n",
      "torch.Size([54, 9, 12, 24])\n",
      "18.966666666666665\n",
      "(8, 3, 9, 12, 556)\n",
      "torch.Size([55, 9, 12, 24])\n",
      "29.8\n",
      "(8, 3, 9, 12, 881)\n",
      "torch.Size([88, 9, 12, 24])\n",
      "18.966666666666665\n",
      "(8, 3, 9, 12, 556)\n",
      "torch.Size([55, 9, 12, 24])\n",
      "29.9\n",
      "(8, 3, 9, 12, 884)\n",
      "19.0\n",
      "(8, 3, 9, 12, 557)\n",
      "torch.Size([55, 9, 12, 24])\n"
     ]
    }
   ],
   "source": [
    "dataset.save(spectr_folder)"
   ]
  },
  {
   "cell_type": "code",
   "execution_count": 20,
   "metadata": {},
   "outputs": [
    {
     "name": "stdout",
     "output_type": "stream",
     "text": [
      "../data/spectrograms/24 W.spectr\n",
      "../data/spectrograms/29 W.spectr\n",
      "../data/spectrograms/18 NW.spectr\n",
      "../data/spectrograms/39 W.spectr\n",
      "../data/spectrograms/8 W.spectr\n",
      "../data/spectrograms/28 W.spectr\n",
      "../data/spectrograms/3 NW.spectr\n",
      "../data/spectrograms/6 NW.spectr\n",
      "../data/spectrograms/4 NW.spectr\n",
      "../data/spectrograms/19 NW.spectr\n",
      "../data/spectrograms/22 NW.spectr\n",
      "../data/spectrograms/10 W.spectr\n",
      "../data/spectrograms/31 NW.spectr\n",
      "../data/spectrograms/21 W.spectr\n",
      "../data/spectrograms/5 NW.spectr\n",
      "../data/spectrograms/17 NW.spectr\n",
      "../data/spectrograms/35 W.spectr\n",
      "../data/spectrograms/9 W.spectr\n",
      "../data/spectrograms/26 NW.spectr\n",
      "../data/spectrograms/37 W.spectr\n",
      "../data/spectrograms/2 NW.spectr\n",
      "../data/spectrograms/7 W.spectr\n",
      "../data/spectrograms/36 NW.spectr\n",
      "../data/spectrograms/30 NW.spectr\n",
      "../data/spectrograms/38 W.spectr\n",
      "../data/spectrograms/23 W.spectr\n",
      "../data/spectrograms/12 NW.spectr\n",
      "../data/spectrograms/16 NW.spectr\n",
      "../data/spectrograms/32 NW.spectr\n",
      "../data/spectrograms/20 W.spectr\n",
      "../data/spectrograms/33 W.spectr\n",
      "../data/spectrograms/25 W.spectr\n",
      "../data/spectrograms/27 W.spectr\n"
     ]
    }
   ],
   "source": [
    "all_spectr = {}\n",
    "for file_ in all_folders:\n",
    "    if 'NW' in file_ or 'W' in file_:\n",
    "        file = file_[7:]+'.spectr'\n",
    "        name = file.split('.')[0]\n",
    "        print(f'{spectr_folder}{file}')\n",
    "        with open(f'{spectr_folder}{file}','rb') as f:\n",
    "            spectr = pickle.load(f)\n",
    "        all_spectr[name] = spectr.permute(0,3,1,2)"
   ]
  },
  {
   "cell_type": "code",
   "execution_count": 21,
   "metadata": {},
   "outputs": [
    {
     "name": "stdout",
     "output_type": "stream",
     "text": [
      "../data/images/Folder 24 W\n",
      "../data/images/Folder 29 W\n",
      "../data/images/Folder 18 NW\n",
      "../data/images/Folder 39 W\n",
      "../data/images/Folder 8 W\n",
      "../data/images/Folder 28 W\n",
      "../data/images/Folder 3 NW\n",
      "../data/images/Folder 6 NW\n",
      "../data/images/Folder 4 NW\n",
      "../data/images/Folder 19 NW\n",
      "../data/images/Folder 22 NW\n",
      "../data/images/Folder 10 W\n",
      "../data/images/Folder 31 NW\n",
      "../data/images/Folder 21 W\n",
      "../data/images/Folder 5 NW\n",
      "../data/images/Folder 17 NW\n",
      "../data/images/Folder 35 W\n",
      "../data/images/Folder 9 W\n",
      "../data/images/Folder 26 NW\n",
      "../data/images/Folder 37 W\n",
      "../data/images/Folder 2 NW\n",
      "../data/images/Folder 7 W\n",
      "../data/images/Folder 36 NW\n",
      "../data/images/Folder 30 NW\n",
      "../data/images/Folder 38 W\n",
      "../data/images/Folder 23 W\n",
      "../data/images/Folder 12 NW\n",
      "../data/images/Folder 16 NW\n",
      "../data/images/Folder 32 NW\n",
      "../data/images/Folder 20 W\n",
      "../data/images/Folder 33 W\n",
      "../data/images/Folder 25 W\n",
      "../data/images/Folder 27 W\n"
     ]
    }
   ],
   "source": [
    "all_images = {}\n",
    "for file in all_folders:\n",
    "    if 'Folder' in file:\n",
    "        name = file[7:]\n",
    "        print(f'{imgs_folder}{file}')\n",
    "        imgs = []\n",
    "        img_dir_list = os.listdir(f'{imgs_folder}{file}')\n",
    "        img_dir_list.sort()\n",
    "        for imgfile in img_dir_list:\n",
    "            if '.jpg' in imgfile:\n",
    "                img = torch.tensor(cv2.cvtColor(cv2.imread(f\"{imgs_folder}{file}/{imgfile}\", cv2.IMREAD_COLOR), cv2.COLOR_BGR2RGB))\n",
    "                img = img.permute(2,0,1).double()\n",
    "                imgs.append(img)\n",
    "        imgs = torch.stack(imgs)\n",
    "        all_images[name] = imgs"
   ]
  },
  {
   "cell_type": "code",
   "execution_count": 22,
   "metadata": {},
   "outputs": [
    {
     "name": "stdout",
     "output_type": "stream",
     "text": [
      "../data/labels/Folder 24 W\n",
      "../data/labels/Folder 29 W\n",
      "../data/labels/Folder 18 NW\n",
      "../data/labels/Folder 39 W\n",
      "../data/labels/Folder 8 W\n",
      "../data/labels/Folder 28 W\n",
      "../data/labels/Folder 3 NW\n",
      "../data/labels/Folder 6 NW\n",
      "../data/labels/Folder 4 NW\n",
      "../data/labels/Folder 19 NW\n",
      "../data/labels/Folder 22 NW\n",
      "../data/labels/Folder 10 W\n",
      "../data/labels/Folder 31 NW\n",
      "../data/labels/Folder 21 W\n",
      "../data/labels/Folder 5 NW\n",
      "../data/labels/Folder 17 NW\n",
      "../data/labels/Folder 35 W\n",
      "../data/labels/Folder 9 W\n",
      "../data/labels/Folder 26 NW\n",
      "../data/labels/Folder 37 W\n",
      "../data/labels/Folder 2 NW\n",
      "../data/labels/Folder 7 W\n",
      "../data/labels/Folder 36 NW\n",
      "../data/labels/Folder 30 NW\n",
      "../data/labels/Folder 38 W\n",
      "../data/labels/Folder 23 W\n",
      "../data/labels/Folder 12 NW\n",
      "../data/labels/Folder 16 NW\n",
      "../data/labels/Folder 32 NW\n",
      "../data/labels/Folder 20 W\n",
      "../data/labels/Folder 33 W\n",
      "../data/labels/Folder 25 W\n",
      "../data/labels/Folder 27 W\n"
     ]
    }
   ],
   "source": [
    "all_labs = {}\n",
    "for file in all_folders:\n",
    "    if 'Folder' in file:\n",
    "        name = file[7:]\n",
    "        print(f'{labels_folder}{file}')\n",
    "        all_targets = []\n",
    "        for interfolder in os.listdir(f'{labels_folder}{file}'):\n",
    "            if interfolder.endswith('YOLO'):\n",
    "                lab_list_dir = os.listdir(f'{labels_folder}{file}/{interfolder}')\n",
    "                lab_list_dir.sort()\n",
    "                prevCount = 0\n",
    "                for labfile in lab_list_dir:\n",
    "                    if '.txt' in labfile:\n",
    "                        count = int(labfile.split('.')[0])\n",
    "                        while count > prevCount+1:\n",
    "                            targets = {'boxes':torch.tensor([[]]), 'labels':torch.tensor([])}\n",
    "                            all_targets.append(targets)\n",
    "                            prevCount+=1\n",
    "                        prevCount = count\n",
    "                        boxes = []\n",
    "                        labels = []\n",
    "                        with open(f\"{labels_folder}{file}/{interfolder}/{labfile}\") as f:\n",
    "                            for line in f:\n",
    "                                line = line.split()\n",
    "                                label, rest = int(line[0]), line[1:]\n",
    "                                xcenter, ycenter, w, h = map(float, rest)\n",
    "                                xcenter, ycenter = int(xcenter*image_width), int(ycenter*image_height)\n",
    "                                xmin, ymin = xcenter-int(w/2*image_width), ycenter-int(h/2*image_height)\n",
    "                                boxes.append(torch.tensor([int(xmin), int(ymin), int(w*image_width), int(h*image_height)]))\n",
    "                                labels.append(label)\n",
    "                        if len(labels) == 0:\n",
    "                            targets = {'boxes':torch.tensor([[]]), 'labels':torch.tensor([])}\n",
    "                        else:\n",
    "                            targets = {'boxes':torch.stack(boxes).float(), 'labels':torch.tensor(labels).long()+1}\n",
    "                        all_targets.append(targets)\n",
    "        all_labs[name] = all_targets"
   ]
  },
  {
   "cell_type": "code",
   "execution_count": 23,
   "metadata": {},
   "outputs": [],
   "source": [
    "with open('../data/spectro.data', 'wb') as f:\n",
    "    pickle.dump(all_spectr, f)\n",
    "with open('../data/images.data', 'wb') as f:\n",
    "    pickle.dump(all_images, f)\n",
    "with open('../data/labs.data', 'wb') as f:\n",
    "    pickle.dump(all_labs, f)"
   ]
  },
  {
   "cell_type": "code",
   "execution_count": 24,
   "metadata": {},
   "outputs": [
    {
     "name": "stdout",
     "output_type": "stream",
     "text": [
      "torch.Size([28, 24, 9, 12])\n"
     ]
    }
   ],
   "source": [
    "print(all_spectr['10 W'].shape)"
   ]
  },
  {
   "cell_type": "code",
   "execution_count": 25,
   "metadata": {},
   "outputs": [
    {
     "name": "stdout",
     "output_type": "stream",
     "text": [
      "torch.Size([30, 3, 96, 128])\n"
     ]
    }
   ],
   "source": [
    "print(all_images['10 W'].shape)"
   ]
  },
  {
   "cell_type": "code",
   "execution_count": 26,
   "metadata": {},
   "outputs": [
    {
     "name": "stdout",
     "output_type": "stream",
     "text": [
      "30\n",
      "{'boxes': tensor([[27.,  0., 93., 95.]]), 'labels': tensor([1])}\n"
     ]
    }
   ],
   "source": [
    "print(len(all_labs['10 W']))\n",
    "print(all_labs['10 W'][0])\n",
    "# why is there a count diff?"
   ]
  },
  {
   "cell_type": "code",
   "execution_count": null,
   "metadata": {},
   "outputs": [],
   "source": []
  }
 ],
 "metadata": {
  "interpreter": {
   "hash": "8ea83725a0d7e757f9aba8ea7bbb3168a22f298da9d6ed8cf70bc5ab2342cc11"
  },
  "kernelspec": {
   "display_name": "Python 3.9.7 64-bit ('ml-venv': venv)",
   "name": "python3"
  },
  "language_info": {
   "codemirror_mode": {
    "name": "ipython",
    "version": 3
   },
   "file_extension": ".py",
   "mimetype": "text/x-python",
   "name": "python",
   "nbconvert_exporter": "python",
   "pygments_lexer": "ipython3",
   "version": "3.9.7"
  },
  "orig_nbformat": 4
 },
 "nbformat": 4,
 "nbformat_minor": 2
}
