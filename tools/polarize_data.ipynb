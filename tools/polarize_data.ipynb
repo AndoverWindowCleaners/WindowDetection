{
 "cells": [
  {
   "cell_type": "code",
   "execution_count": 1,
   "metadata": {},
   "outputs": [],
   "source": [
    "import torch\n",
    "from data_reading import WindowDataset\n",
    "import os\n",
    "import cv2\n",
    "import numpy as np\n",
    "from scipy import signal\n",
    "import pickle"
   ]
  },
  {
   "cell_type": "code",
   "execution_count": 2,
   "metadata": {},
   "outputs": [],
   "source": [
    "image_width = 128\n",
    "image_height = 96\n",
    "labels_folder = '../data/labels/'\n",
    "imgs_folder = '../data/images/'\n",
    "video_folder = '../data/training_videos/'\n",
    "spectr_folder = '../data/spectrograms/'"
   ]
  },
  {
   "cell_type": "code",
   "execution_count": 3,
   "metadata": {},
   "outputs": [],
   "source": [
    "dataset = WindowDataset(video_folder, labels_folder, imgs_folder)"
   ]
  },
  {
   "cell_type": "code",
   "execution_count": 4,
   "metadata": {},
   "outputs": [
    {
     "name": "stdout",
     "output_type": "stream",
     "text": [
      "19.066666666666666\n",
      "(8, 3, 9, 12, 559)\n",
      "torch.Size([55, 9, 12, 24])\n",
      "29.866666666666667\n",
      "(8, 3, 9, 12, 883)\n",
      "torch.Size([88, 9, 12, 24])\n",
      "30.033333333333335\n",
      "(8, 3, 9, 12, 888)\n",
      "torch.Size([89, 9, 12, 24])\n",
      "19.033333333333335\n",
      "(8, 3, 9, 12, 558)\n",
      "torch.Size([56, 9, 12, 24])\n",
      "9.866666666666667\n",
      "(8, 3, 9, 12, 283)\n",
      "torch.Size([28, 9, 12, 24])\n",
      "29.8\n",
      "(8, 3, 9, 12, 881)\n",
      "torch.Size([88, 9, 12, 24])\n",
      "19.433333333333334\n",
      "(8, 3, 9, 12, 570)\n",
      "torch.Size([53, 9, 12, 24])\n",
      "26.866666666666667\n",
      "(8, 3, 9, 12, 793)\n",
      "torch.Size([79, 9, 12, 24])\n",
      "14.466666666666667\n",
      "(8, 3, 9, 12, 421)\n",
      "19.2\n",
      "(8, 3, 9, 12, 563)\n",
      "torch.Size([56, 9, 12, 24])\n",
      "30.033333333333335\n",
      "(8, 3, 9, 12, 888)\n",
      "torch.Size([89, 9, 12, 24])\n",
      "12.9\n",
      "(8, 3, 9, 12, 374)\n",
      "torch.Size([37, 9, 12, 24])\n",
      "29.833333333333332\n",
      "(8, 3, 9, 12, 882)\n",
      "torch.Size([88, 9, 12, 24])\n",
      "30.0\n",
      "(8, 3, 9, 12, 887)\n",
      "torch.Size([30, 9, 12, 24])\n",
      "29.233333333333334\n",
      "(8, 3, 9, 12, 864)\n",
      "torch.Size([86, 9, 12, 24])\n",
      "18.866666666666667\n",
      "(8, 3, 9, 12, 553)\n",
      "torch.Size([55, 9, 12, 24])\n",
      "19.133333333333333\n",
      "(8, 3, 9, 12, 561)\n",
      "torch.Size([56, 9, 12, 24])\n",
      "29.766666666666666\n",
      "(8, 3, 9, 12, 880)\n",
      "torch.Size([88, 9, 12, 24])\n",
      "18.966666666666665\n",
      "(8, 3, 9, 12, 556)\n",
      "torch.Size([55, 9, 12, 24])\n",
      "29.8\n",
      "(8, 3, 9, 12, 881)\n",
      "18.566666666666666\n",
      "(8, 3, 9, 12, 544)\n",
      "torch.Size([54, 9, 12, 24])\n",
      "14.966666666666667\n",
      "(8, 3, 9, 12, 436)\n",
      "torch.Size([43, 9, 12, 24])\n",
      "30.033333333333335\n",
      "(8, 3, 9, 12, 888)\n",
      "torch.Size([89, 9, 12, 24])\n",
      "29.8\n",
      "(8, 3, 9, 12, 881)\n",
      "29.866666666666667\n",
      "(8, 3, 9, 12, 883)\n",
      "torch.Size([88, 9, 12, 24])\n",
      "18.733333333333334\n",
      "(8, 3, 9, 12, 549)\n",
      "torch.Size([55, 9, 12, 24])\n",
      "18.7\n",
      "(8, 3, 9, 12, 548)\n",
      "torch.Size([54, 9, 12, 24])\n",
      "23.966666666666665\n",
      "(8, 3, 9, 12, 706)\n",
      "torch.Size([70, 9, 12, 24])\n",
      "30.0\n",
      "(8, 3, 9, 12, 887)\n",
      "torch.Size([88, 9, 12, 24])\n",
      "29.833333333333332\n",
      "(8, 3, 9, 12, 882)\n",
      "19.866666666666667\n",
      "(8, 3, 9, 12, 583)\n",
      "torch.Size([58, 9, 12, 24])\n",
      "18.833333333333332\n",
      "(8, 3, 9, 12, 552)\n",
      "torch.Size([55, 9, 12, 24])\n",
      "29.733333333333334\n",
      "(8, 3, 9, 12, 879)\n",
      "29.8\n",
      "(8, 3, 9, 12, 881)\n",
      "18.633333333333333\n",
      "(8, 3, 9, 12, 546)\n",
      "torch.Size([54, 9, 12, 24])\n",
      "18.966666666666665\n",
      "(8, 3, 9, 12, 556)\n",
      "torch.Size([55, 9, 12, 24])\n",
      "29.8\n",
      "(8, 3, 9, 12, 881)\n",
      "torch.Size([88, 9, 12, 24])\n",
      "18.966666666666665\n",
      "(8, 3, 9, 12, 556)\n",
      "torch.Size([55, 9, 12, 24])\n",
      "29.9\n",
      "(8, 3, 9, 12, 884)\n",
      "19.0\n",
      "(8, 3, 9, 12, 557)\n",
      "torch.Size([55, 9, 12, 24])\n"
     ]
    }
   ],
   "source": [
    "dataset.save(spectr_folder)"
   ]
  },
  {
   "cell_type": "code",
   "execution_count": 5,
   "metadata": {},
   "outputs": [
    {
     "name": "stdout",
     "output_type": "stream",
     "text": [
      "../data/spectrograms/31 NW.spectr\n",
      "../data/spectrograms/35 W.spectr\n",
      "../data/spectrograms/2 NW.spectr\n",
      "../data/spectrograms/23 W.spectr\n",
      "../data/spectrograms/16 NW.spectr\n",
      "../data/spectrograms/29 W.spectr\n",
      "../data/spectrograms/28 W.spectr\n",
      "../data/spectrograms/4 NW.spectr\n",
      "../data/spectrograms/24 W.spectr\n",
      "../data/spectrograms/25 W.spectr\n",
      "../data/spectrograms/30 NW.spectr\n",
      "../data/spectrograms/3 NW.spectr\n",
      "../data/spectrograms/8 W.spectr\n",
      "../data/spectrograms/9 W.spectr\n",
      "../data/spectrograms/10 W.spectr\n",
      "../data/spectrograms/17 NW.spectr\n",
      "../data/spectrograms/33 W.spectr\n",
      "../data/spectrograms/22 NW.spectr\n",
      "../data/spectrograms/36 NW.spectr\n",
      "../data/spectrograms/39 W.spectr\n",
      "../data/spectrograms/38 W.spectr\n",
      "../data/spectrograms/5 NW.spectr\n",
      "../data/spectrograms/12 NW.spectr\n",
      "../data/spectrograms/20 W.spectr\n",
      "../data/spectrograms/21 W.spectr\n",
      "../data/spectrograms/7 W.spectr\n",
      "../data/spectrograms/6 NW.spectr\n",
      "../data/spectrograms/37 W.spectr\n",
      "../data/spectrograms/19 NW.spectr\n",
      "../data/spectrograms/26 NW.spectr\n",
      "../data/spectrograms/32 NW.spectr\n",
      "../data/spectrograms/27 W.spectr\n",
      "../data/spectrograms/18 NW.spectr\n"
     ]
    }
   ],
   "source": [
    "all_spectr = {}\n",
    "for file in os.listdir(spectr_folder):\n",
    "    if '.spectr' in file:\n",
    "        name = file.split('.')[0]\n",
    "        print(f'{spectr_folder}{file}')\n",
    "        with open(f'{spectr_folder}{file}','rb') as f:\n",
    "            spectr = pickle.load(f)\n",
    "        all_spectr[name] = spectr.permute(0,3,1,2)"
   ]
  },
  {
   "cell_type": "code",
   "execution_count": 6,
   "metadata": {},
   "outputs": [
    {
     "name": "stdout",
     "output_type": "stream",
     "text": [
      "../data/images/Folder 29 W\n",
      "../data/images/Folder 42 W\n",
      "../data/images/Folder 23 W\n",
      "../data/images/Folder 27 W\n",
      "../data/images/Folder 18 NW\n",
      "../data/images/Folder 8 W\n",
      "../data/images/Folder 37 W\n",
      "../data/images/Folder 19 NW\n",
      "../data/images/Folder 39 W\n",
      "../data/images/Folder 33 W\n",
      "../data/images/Folder 41 W\n",
      "../data/images/Folder 32 NW\n",
      "../data/images/Folder 20 W\n",
      "../data/images/Folder 16 NW\n",
      "../data/images/Folder 22 NW\n",
      "../data/images/Folder 36 NW\n",
      "../data/images/Folder 4 NW\n",
      "../data/images/Folder 26 NW\n",
      "../data/images/Folder 24 W\n",
      "../data/images/Folder 12 NW\n",
      "../data/images/Folder 45 W\n",
      "../data/images/Folder 11 W\n",
      "../data/images/Folder 5 NW\n",
      "../data/images/Folder 13 NW\n",
      "../data/images/Folder 1 W\n",
      "../data/images/Folder 17 NW\n",
      "../data/images/Folder 21 W\n",
      "../data/images/Folder 40 W\n",
      "../data/images/Folder 6 NW\n",
      "../data/images/Folder 30 NW\n",
      "../data/images/Folder 44 W\n",
      "../data/images/Folder 14 NW\n",
      "../data/images/Folder 2 NW\n",
      "../data/images/Folder 25 W\n",
      "../data/images/Folder 31 NW\n",
      "../data/images/Folder 10 W\n",
      "../data/images/Folder 15 NW\n",
      "../data/images/Folder 3 NW\n",
      "../data/images/Folder 35 W\n",
      "../data/images/Folder 43 W\n",
      "../data/images/Folder 28 W\n",
      "../data/images/Folder 9 W\n",
      "../data/images/Folder 38 W\n",
      "../data/images/Folder 7 W\n"
     ]
    }
   ],
   "source": [
    "all_images = {}\n",
    "for file in os.listdir(imgs_folder):\n",
    "    if 'Folder' in file:\n",
    "        name = file[7:]\n",
    "        print(f'{imgs_folder}{file}')\n",
    "        imgs = []\n",
    "        for imgfile in os.listdir(f'{imgs_folder}{file}'):\n",
    "            if '.jpg' in imgfile:\n",
    "                img = torch.tensor(cv2.cvtColor(cv2.imread(f\"{imgs_folder}{file}/{imgfile}\", cv2.IMREAD_COLOR), cv2.COLOR_BGR2RGB))\n",
    "                img = img.permute(2,0,1).double()\n",
    "                imgs.append(img)\n",
    "        imgs = torch.stack(imgs)\n",
    "        all_images[name] = imgs"
   ]
  },
  {
   "cell_type": "code",
   "execution_count": 7,
   "metadata": {},
   "outputs": [
    {
     "name": "stdout",
     "output_type": "stream",
     "text": [
      "../data/labels/Folder 29 W\n",
      "../data/labels/Folder 23 W\n",
      "../data/labels/Folder 27 W\n",
      "../data/labels/Folder 18 NW\n",
      "../data/labels/Folder 8 W\n",
      "../data/labels/Folder 37 W\n",
      "../data/labels/Folder 19 NW\n",
      "../data/labels/Folder 39 W\n",
      "../data/labels/Folder 33 W\n",
      "../data/labels/Folder 32 NW\n",
      "../data/labels/Folder 20 W\n",
      "../data/labels/Folder 16 NW\n",
      "../data/labels/Folder 22 NW\n",
      "../data/labels/Folder 36 NW\n",
      "../data/labels/Folder 4 NW\n",
      "../data/labels/Folder 26 NW\n",
      "../data/labels/Folder 24 W\n",
      "../data/labels/Folder 12 NW\n",
      "../data/labels/Folder 11 W\n",
      "../data/labels/Folder 5 NW\n",
      "../data/labels/Folder 13 NW\n",
      "../data/labels/Folder 17 NW\n",
      "../data/labels/Folder 21 W\n",
      "../data/labels/Folder 6 NW\n",
      "../data/labels/Folder 30 NW\n",
      "../data/labels/Folder 14 NW\n",
      "../data/labels/Folder 2 NW\n",
      "../data/labels/Folder 25 W\n",
      "../data/labels/Folder 31 NW\n",
      "../data/labels/Folder 10 W\n",
      "../data/labels/Folder 15 NW\n",
      "../data/labels/Folder 3 NW\n",
      "../data/labels/Folder 35 W\n",
      "../data/labels/Folder 28 W\n",
      "../data/labels/Folder 9 W\n",
      "../data/labels/Folder 38 W\n",
      "../data/labels/Folder 7 W\n"
     ]
    }
   ],
   "source": [
    "all_labs = {}\n",
    "for file in os.listdir(labels_folder):\n",
    "    if 'Folder' in file:\n",
    "        name = file[7:]\n",
    "        print(f'{labels_folder}{file}')\n",
    "        all_targets = []\n",
    "        for interfolder in os.listdir(f'{labels_folder}{file}'):\n",
    "            if interfolder.endswith('YOLO'):\n",
    "                for labfile in os.listdir(f'{labels_folder}{file}/{interfolder}'):\n",
    "                    if '.txt' in labfile:\n",
    "                        boxes = []\n",
    "                        labels = []\n",
    "                        with open(f\"{labels_folder}{file}/{interfolder}/{labfile}\") as f:\n",
    "                            for line in f:\n",
    "                                line = line.split()\n",
    "                                label, rest = int(line[0]), line[1:]\n",
    "                                xcenter, ycenter, w, h = map(float, rest)\n",
    "                                xcenter, ycenter = int(xcenter*image_width), int(ycenter*image_height)\n",
    "                                xmin, ymin = xcenter-int(w/2*image_width), ycenter-int(h/2*image_height)\n",
    "                                boxes.append(torch.tensor([xmin, ymin, w, h]))\n",
    "                                labels.append(label)\n",
    "                        if len(labels) == 0:\n",
    "                            targets = {'boxes':torch.tensor([[]]), 'labels':torch.tensor([])}\n",
    "                        else:\n",
    "                            targets = {'boxes':torch.stack(boxes).float(), 'labels':torch.tensor(labels).long()+1}\n",
    "                        all_targets.append(targets)\n",
    "        all_labs[name] = all_targets"
   ]
  },
  {
   "cell_type": "code",
   "execution_count": 8,
   "metadata": {},
   "outputs": [],
   "source": [
    "with open('../data/spectro.data', 'wb') as f:\n",
    "    pickle.dump(all_spectr, f)\n",
    "with open('../data/images.data', 'wb') as f:\n",
    "    pickle.dump(all_images, f)\n",
    "with open('../data/labs.data', 'wb') as f:\n",
    "    pickle.dump(all_labs, f)"
   ]
  },
  {
   "cell_type": "code",
   "execution_count": 14,
   "metadata": {},
   "outputs": [
    {
     "name": "stdout",
     "output_type": "stream",
     "text": [
      "torch.Size([54, 24, 9, 12])\n"
     ]
    }
   ],
   "source": [
    "print(all_spectr['7 W'].shape)"
   ]
  },
  {
   "cell_type": "code",
   "execution_count": 15,
   "metadata": {},
   "outputs": [
    {
     "name": "stdout",
     "output_type": "stream",
     "text": [
      "torch.Size([57, 3, 96, 128])\n"
     ]
    }
   ],
   "source": [
    "print(all_images['7 W'].shape)"
   ]
  },
  {
   "cell_type": "code",
   "execution_count": 22,
   "metadata": {},
   "outputs": [
    {
     "name": "stdout",
     "output_type": "stream",
     "text": [
      "2\n",
      "{'boxes': tensor([[4.4000e+01, 3.7000e+01, 3.7415e-01, 6.1451e-01],\n",
      "        [1.1600e+02, 3.3000e+01, 9.3537e-02, 2.3243e-01]]), 'labels': tensor([1, 1])}\n"
     ]
    }
   ],
   "source": [
    "print(len(all_labs['7 W'][0]))\n",
    "print(all_labs['7 W'][0])\n",
    "# why is there a count diff?"
   ]
  },
  {
   "cell_type": "code",
   "execution_count": null,
   "metadata": {},
   "outputs": [],
   "source": []
  }
 ],
 "metadata": {
  "interpreter": {
   "hash": "8ea83725a0d7e757f9aba8ea7bbb3168a22f298da9d6ed8cf70bc5ab2342cc11"
  },
  "kernelspec": {
   "display_name": "Python 3.9.7 64-bit ('ml-venv': venv)",
   "name": "python3"
  },
  "language_info": {
   "codemirror_mode": {
    "name": "ipython",
    "version": 3
   },
   "file_extension": ".py",
   "mimetype": "text/x-python",
   "name": "python",
   "nbconvert_exporter": "python",
   "pygments_lexer": "ipython3",
   "version": "3.9.7"
  },
  "orig_nbformat": 4
 },
 "nbformat": 4,
 "nbformat_minor": 2
}
