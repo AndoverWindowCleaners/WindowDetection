{
 "cells": [
  {
   "cell_type": "code",
   "execution_count": null,
   "source": [
    "import torch\n",
    "import data_reading\n",
    "import os\n",
    "import cv2\n",
    "import numpy as np\n",
    "from scipy import signal\n",
    "import pickle"
   ],
   "outputs": [],
   "metadata": {}
  },
  {
   "cell_type": "code",
   "execution_count": null,
   "source": [
    "image_width = 128\n",
    "image_height = 96\n",
    "labels_folder = '../data/labels'\n",
    "imgs_folder = '../data/images'\n",
    "video_folder = '../data/training_videos'"
   ],
   "outputs": [],
   "metadata": {}
  },
  {
   "cell_type": "code",
   "execution_count": null,
   "source": [
    "def read_video(file_name):\n",
    "    cap = cv2.VideoCapture(file_name)\n",
    "    frameCount = int(cap.get(cv2.CAP_PROP_FRAME_COUNT))\n",
    "    frameWidth = int(cap.get(cv2.CAP_PROP_FRAME_WIDTH))\n",
    "    frameHeight = int(cap.get(cv2.CAP_PROP_FRAME_HEIGHT))\n",
    "    buf = np.empty((frameCount, 3, frameHeight, frameWidth), np.dtype('uint8'))\n",
    "    fc = 0\n",
    "    ret = True\n",
    "    SAMPLING_FREQUENCY = cap.get(cv2.CAP_PROP_FPS)\n",
    "    print(frameCount/SAMPLING_FREQUENCY)\n",
    "    while (fc < frameCount  and ret):\n",
    "        ret, img = cap.read()\n",
    "        buf[fc] = np.transpose(img, (2,0,1))\n",
    "        fc += 1\n",
    "    cap.release()\n",
    "    freqs, times, spectr = signal.spectrogram(buf, fs=SAMPLING_FREQUENCY, window=('hamming'), noverlap=13, nperseg=14, axis=0, mode='magnitude')\n",
    "    return freqs, times, spectr"
   ],
   "outputs": [],
   "metadata": {}
  },
  {
   "cell_type": "code",
   "execution_count": null,
   "source": [
    "all_freqs = {}\n",
    "all_times = {}\n",
    "all_spectr = {}\n",
    "for video_path in os.listdir(video_folder):\n",
    "    if 'W' in video_path or 'NW' in video_path:\n",
    "        freqs, times, spectr = read_video(f'{video_folder}/{video_path}')\n",
    "        name = video_path.split('.')[0]\n",
    "        all_freqs[name] = freqs\n",
    "        all_times[name] = times\n",
    "        all_spectr[name] = spectr\n",
    "        # this is not viable because the spectrogram turns out to take 24 gigabytes"
   ],
   "outputs": [],
   "metadata": {}
  },
  {
   "cell_type": "code",
   "execution_count": null,
   "source": [
    "with open('../data/all_freqs.data','wb') as f:\n",
    "    pickle.dump(all_freqs, f)\n",
    "with open('../data/all_times.data','wb') as f:\n",
    "    pickle.dump(all_times, f)\n",
    "with open('../data/all_spectr.data', 'wb') as f:\n",
    "    pickle.dump(all_spectr, f)"
   ],
   "outputs": [],
   "metadata": {}
  },
  {
   "cell_type": "code",
   "execution_count": null,
   "source": [
    "frame_counts = {}\n",
    "duration = {}\n",
    "for video_path in os.listdir(video_folder):\n",
    "    if 'W' in video_path or 'NW' in video_path:\n",
    "        cap = cv2.VideoCapture(f'{video_folder}/{video_path}')\n",
    "        frameCount = int(cap.get(cv2.CAP_PROP_FRAME_COUNT))\n",
    "        dure = int(cap.get(cv2.CAP_PROP_FRAME_COUNT))/cap.get(cv2.CAP_PROP_FPS)\n",
    "        frame_counts[video_path.split('.')[0]] = frameCount\n",
    "        duration[video_path.split('.')[0]] = dure"
   ],
   "outputs": [],
   "metadata": {}
  },
  {
   "cell_type": "code",
   "execution_count": null,
   "source": [
    "from bisect import bisect_left\n",
    "data = []\n",
    "for folder in os.listdir('data/labels'):\n",
    "    if folder != '.DS_Store':\n",
    "        name = folder[7:]\n",
    "        total_frame = frame_counts[name]\n",
    "        dure = duration[name]\n",
    "        for filename in os.listdir(f\"{labels_folder}{folder}\"):\n",
    "            # i is the image count\n",
    "            if filename.endswith(\"YOLO\"):\n",
    "                _file_names = os.listdir(f\"{labels_folder}{folder}/{filename}\")\n",
    "                _file_names.sort()\n",
    "                for i, _file in enumerate(_file_names):\n",
    "                    if i == 0 or i == len(_file_names)-1 :\n",
    "                        continue # drop the ends\n",
    "                    data.append((None,None,None))\n",
    "                    with open(f\"{labels_folder}{folder}/{filename}/{_file}\") as f:\n",
    "                        boxes = []\n",
    "                        labels = []\n",
    "                        for line in f:\n",
    "                            line = line.split()\n",
    "                            label, rest = int(line[0]), line[1:]\n",
    "                            xmin, ymin, w, h = map(float, rest)\n",
    "                            xmin, ymin = int(xmin*image_width), int(ymin*image_height)\n",
    "                            w, h = int(w*image_width), int(h*image_height)\n",
    "                            boxes.append(torch.tensor([xmin, ymin, min(w+xmin, image_width-1), min(h+ymin, image_height-1)]))\n",
    "                            labels.append(label)                                     \n",
    "                        front_part = i*10/total_frame*dure\n",
    "                        pos = bisect_left(all_times[name],front_part,0,len(all_times[name]))\n",
    "                        # pos value is >= this\n",
    "                        left = 0\n",
    "                        if pos > 0:\n",
    "                            left = all_times[name][pos-1]\n",
    "                        right = all_times[name][pos]\n",
    "                        assert(left<=front_part and front_part<=right)\n",
    "                        leftW = (right-front_part)/(right-left) # this should weight left\n",
    "                        rightW = (front_part-left)/(right-left) # this should weight right\n",
    "                        spectr = all_spectr[name][:,:,:,:,pos-1]*leftW + all_spectr[name][:,:,:,:,pos]*rightW\n",
    "                        # freq, height, width, depth\n",
    "                        data[-1][1] = torch.tensor(spectr).double()\n",
    "                        data[-1][2] = {'boxes':torch.stack(boxes).float(), 'labels':torch.tensor(labels).long()+1}\n",
    "                    image = torch.tensor(cv2.cvtColor(cv2.imread(f\"{imgs_folder}/{folder}/{_file[:-3]}jpg\", cv2.IMREAD_COLOR), cv2.COLOR_BGR2RGB))\n",
    "                    image = image.permute(2,0,1).double()\n",
    "                    data[-1][0] = image"
   ],
   "outputs": [],
   "metadata": {}
  },
  {
   "cell_type": "code",
   "execution_count": null,
   "source": [
    "with open('../data/all_freqs.data','wb') as f:\n",
    "    pickle.dump(all_freqs, f)\n",
    "with open('../data/all_times.data','wb') as f:\n",
    "    pickle.dump(all_times, f)\n",
    "with open('../data/all_spectr.data', 'wb') as f:\n",
    "    pickle.dump(all_spectr, f)"
   ],
   "outputs": [],
   "metadata": {}
  }
 ],
 "metadata": {
  "orig_nbformat": 4,
  "language_info": {
   "name": "python",
   "version": "3.9.7",
   "mimetype": "text/x-python",
   "codemirror_mode": {
    "name": "ipython",
    "version": 3
   },
   "pygments_lexer": "ipython3",
   "nbconvert_exporter": "python",
   "file_extension": ".py"
  },
  "kernelspec": {
   "name": "python3",
   "display_name": "Python 3.9.7 64-bit ('ml-venv': venv)"
  },
  "interpreter": {
   "hash": "9e18352fe61ca699d23a1ad95306b1cb7f348970ceaca7c655580a6420f95203"
  }
 },
 "nbformat": 4,
 "nbformat_minor": 2
}