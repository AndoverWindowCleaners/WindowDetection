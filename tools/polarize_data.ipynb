{
 "cells": [
  {
   "cell_type": "code",
   "execution_count": 10,
   "source": [
    "import torch\n",
    "import data_reading\n",
    "import os\n",
    "import cv2\n",
    "import numpy as np\n",
    "from scipy import signal\n",
    "import pickle"
   ],
   "outputs": [],
   "metadata": {}
  },
  {
   "cell_type": "code",
   "execution_count": 15,
   "source": [
    "image_width = 128\n",
    "image_height = 96\n",
    "labels_folder = '../data/labels'\n",
    "imgs_folder = '../data/images'\n",
    "video_folder = '../data/training_videos'"
   ],
   "outputs": [],
   "metadata": {}
  },
  {
   "cell_type": "code",
   "execution_count": 28,
   "source": [
    "def read_video(file_name):\n",
    "    cap = cv2.VideoCapture(file_name)\n",
    "    frameCount = int(cap.get(cv2.CAP_PROP_FRAME_COUNT))\n",
    "    frameWidth = int(cap.get(cv2.CAP_PROP_FRAME_WIDTH))\n",
    "    frameHeight = int(cap.get(cv2.CAP_PROP_FRAME_HEIGHT))\n",
    "    buf = np.empty((frameCount, 3, frameHeight, frameWidth), np.dtype('uint8'))\n",
    "    fc = 0\n",
    "    ret = True\n",
    "    SAMPLING_FREQUENCY = cap.get(cv2.CAP_PROP_FPS)\n",
    "    print(frameCount/SAMPLING_FREQUENCY)\n",
    "    while (fc < frameCount  and ret):\n",
    "        ret, img = cap.read()\n",
    "        buf[fc] = np.transpose(img, (2,0,1))\n",
    "        fc += 1\n",
    "    cap.release()\n",
    "    freqs, times, spectr = signal.spectrogram(buf, fs=SAMPLING_FREQUENCY, window=('hamming'), noverlap=13, nperseg=14, axis=0, mode='magnitude')\n",
    "    return freqs, times, spectr"
   ],
   "outputs": [],
   "metadata": {}
  },
  {
   "cell_type": "code",
   "execution_count": 31,
   "source": [
    "for video_path in os.listdir(video_folder):\n",
    "    if 'W' in video_path or 'NW' in video_path:\n",
    "        freqs, times, spectr = read_video(f'{video_folder}/{video_path}')\n",
    "with open('data/freqs.data','wb') as f:\n",
    "    pickle.dump(freqs, f)\n",
    "with open('data/times.data','wb') as f:\n",
    "    pickle.dump(times, f)\n",
    "with open('data/spectr', 'wb') as f:\n",
    "    pickle.dump(spectr, f)"
   ],
   "outputs": [
    {
     "output_type": "stream",
     "name": "stdout",
     "text": [
      "19.066666666666666\n",
      "29.866666666666667\n"
     ]
    }
   ],
   "metadata": {}
  },
  {
   "cell_type": "code",
   "execution_count": null,
   "source": [
    "for folder in os.listdir('data/labels'):\n",
    "    if folder != '.DS_Store':\n",
    "        for filename in os.listdir(f\"{labels_folder}{folder}\"):\n",
    "            if filename.endswith(\"YOLO\"):\n",
    "                for _file in os.listdir(f\"{labels_folder}{folder}/{filename}\"):\n",
    "                    with open(f\"{labels_folder}{folder}/{filename}/{_file}\") as f:\n",
    "                        boxes = []\n",
    "                        labels = []\n",
    "                        for line in f:\n",
    "                            line = line.split()\n",
    "                            label, rest = int(line[0]), line[1:]\n",
    "                            xmin, ymin, w, h = map(float, rest)\n",
    "                            xmin, ymin = int(xmin*image_width), int(ymin*image_height)\n",
    "                            w, h = int(w*image_width), int(h*image_height)\n",
    "                            boxes.append(torch.tensor([xmin, ymin, min(w+xmin, image_width-1), min(h+ymin, image_height-1)]))\n",
    "                            labels.append(label)                                     \n",
    "                        \n",
    "                        self.data[-1][1] = {'boxes':torch.stack(boxes).float(), 'labels':torch.tensor(labels).long()+1}\n",
    "                    image = torch.tensor(cv2.cvtColor(cv2.imread(f\"{images_folder}/{folder}/{_file[:-3]}jpg\", cv2.IMREAD_COLOR), cv2.COLOR_BGR2RGB))\n",
    "                    image = image.permute(2,0,1).double()\n",
    "                    self.data[-1][0] = image"
   ],
   "outputs": [],
   "metadata": {}
  }
 ],
 "metadata": {
  "orig_nbformat": 4,
  "language_info": {
   "name": "python",
   "version": "3.9.7",
   "mimetype": "text/x-python",
   "codemirror_mode": {
    "name": "ipython",
    "version": 3
   },
   "pygments_lexer": "ipython3",
   "nbconvert_exporter": "python",
   "file_extension": ".py"
  },
  "kernelspec": {
   "name": "python3",
   "display_name": "Python 3.9.7 64-bit ('ml-venv': venv)"
  },
  "interpreter": {
   "hash": "9e18352fe61ca699d23a1ad95306b1cb7f348970ceaca7c655580a6420f95203"
  }
 },
 "nbformat": 4,
 "nbformat_minor": 2
}