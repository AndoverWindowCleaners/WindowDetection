{
 "cells": [
  {
   "cell_type": "code",
   "execution_count": null,
   "metadata": {},
   "outputs": [],
   "source": [
    "import torch\n",
    "from data_reading import WindowDataset\n",
    "import os\n",
    "import cv2\n",
    "import numpy as np\n",
    "from scipy import signal\n",
    "import pickle\n",
    "import json"
   ]
  },
  {
   "cell_type": "code",
   "execution_count": null,
   "metadata": {},
   "outputs": [],
   "source": [
    "image_width = 128\n",
    "image_height = 96\n",
    "labels_folder = '../data/labels/'\n",
    "imgs_folder = '../data/images/'\n",
    "video_folder = '../data/training_videos/'\n",
    "spectr_folder = '../data/spectrograms/'"
   ]
  },
  {
   "cell_type": "code",
   "execution_count": null,
   "metadata": {},
   "outputs": [],
   "source": [
    "all_folders_img = set([dir for dir in os.listdir(labels_folder) if 'NW' in dir or 'W' in dir])\n",
    "all_folders_lab = set([dir for dir in os.listdir(imgs_folder) if 'NW' in dir or 'W' in dir])\n",
    "all_folders_video = set(['Folder '+dir.split('.')[0] for dir in os.listdir(video_folder) if 'NW' in dir or 'W' in dir])\n",
    "all_folders = list(all_folders_img.intersection(all_folders_lab).intersection(all_folders_video))"
   ]
  },
  {
   "cell_type": "code",
   "execution_count": null,
   "metadata": {},
   "outputs": [],
   "source": [
    "print(all_folders)"
   ]
  },
  {
   "cell_type": "code",
   "execution_count": null,
   "metadata": {},
   "outputs": [],
   "source": [
    "dataset = WindowDataset(video_folder, labels_folder, imgs_folder)"
   ]
  },
  {
   "cell_type": "code",
   "execution_count": null,
   "metadata": {},
   "outputs": [],
   "source": [
    "dataset.save(spectr_folder)"
   ]
  },
  {
   "cell_type": "code",
   "execution_count": null,
   "metadata": {},
   "outputs": [],
   "source": [
    "all_spectr = {}\n",
    "for file_ in all_folders:\n",
    "    if 'NW' in file_ or 'W' in file_:\n",
    "        file = file_[7:]+'.spectr'\n",
    "        name = file.split('.')[0]\n",
    "        print(f'{spectr_folder}{file}')\n",
    "        with open(f'{spectr_folder}{file}','rb') as f:\n",
    "            spectr = pickle.load(f)\n",
    "        all_spectr[name] = spectr.permute(0,3,1,2)"
   ]
  },
  {
   "cell_type": "code",
   "execution_count": null,
   "metadata": {},
   "outputs": [],
   "source": [
    "all_images = {}\n",
    "for file in all_folders:\n",
    "    if 'Folder' in file:\n",
    "        name = file[7:]\n",
    "        print(f'{imgs_folder}{file}')\n",
    "        imgs = []\n",
    "        img_dir_list = os.listdir(f'{imgs_folder}{file}')\n",
    "        img_dir_list.sort()\n",
    "        for imgfile in img_dir_list:\n",
    "            if '.jpg' in imgfile:\n",
    "                img = torch.tensor(cv2.cvtColor(cv2.imread(f\"{imgs_folder}{file}/{imgfile}\", cv2.IMREAD_COLOR), cv2.COLOR_BGR2RGB))\n",
    "                img = img.permute(2,0,1).double()\n",
    "                imgs.append(img)\n",
    "        imgs = torch.stack(imgs)\n",
    "        all_images[name] = imgs"
   ]
  },
  {
   "cell_type": "code",
   "execution_count": null,
   "metadata": {},
   "outputs": [],
   "source": [
    "all_labs = {}\n",
    "for file in all_folders:\n",
    "    if 'Folder' in file:\n",
    "        name = file[7:]\n",
    "        print(f'{labels_folder}{file}')\n",
    "        all_targets = []\n",
    "        for interfolder in os.listdir(f'{labels_folder}{file}'):\n",
    "            if interfolder.endswith('YOLO'):\n",
    "                lab_list_dir = os.listdir(f'{labels_folder}{file}/{interfolder}')\n",
    "                lab_list_dir.sort()\n",
    "                prevCount = 0\n",
    "                for labfile in lab_list_dir:\n",
    "                    if '.txt' in labfile:\n",
    "                        count = int(labfile.split('.')[0])\n",
    "                        while count > prevCount+1:\n",
    "                            targets = {'boxes':torch.tensor([[]]), 'labels':torch.tensor([])}\n",
    "                            all_targets.append(targets)\n",
    "                            prevCount+=1\n",
    "                        prevCount = count\n",
    "                        boxes = []\n",
    "                        labels = []\n",
    "                        with open(f\"{labels_folder}{file}/{interfolder}/{labfile}\") as f:\n",
    "                            for line in f:\n",
    "                                line = line.split()\n",
    "                                label, rest = int(line[0]), line[1:]\n",
    "                                xcenter, ycenter, w, h = map(float, rest)\n",
    "                                xcenter, ycenter = int(xcenter*image_width), int(ycenter*image_height)\n",
    "                                xmin, ymin = xcenter-int(w/2*image_width), ycenter-int(h/2*image_height)\n",
    "                                boxes.append(torch.tensor([int(xmin), int(ymin), int(w*image_width), int(h*image_height)]))\n",
    "                                labels.append(label)\n",
    "                        if len(labels) == 0:\n",
    "                            targets = {'boxes':torch.tensor([[]]), 'labels':torch.tensor([])}\n",
    "                        else:\n",
    "                            targets = {'boxes':torch.stack(boxes).float(), 'labels':torch.tensor(labels).long()+1}\n",
    "                        all_targets.append(targets)\n",
    "        all_labs[name] = all_targets"
   ]
  },
  {
   "cell_type": "code",
   "execution_count": null,
   "metadata": {},
   "outputs": [],
   "source": [
    "with open('../data/spectro.data', 'wb') as f:\n",
    "    pickle.dump(all_spectr, f)\n",
    "with open('../data/images.data', 'wb') as f:\n",
    "    pickle.dump(all_images, f)\n",
    "with open('../data/labs.data', 'wb') as f:\n",
    "    pickle.dump(all_labs, f)"
   ]
  },
  {
   "cell_type": "code",
   "execution_count": null,
   "metadata": {},
   "outputs": [],
   "source": [
    "print(all_spectr['10 W'].shape)"
   ]
  },
  {
   "cell_type": "code",
   "execution_count": null,
   "metadata": {},
   "outputs": [],
   "source": [
    "print(all_images['10 W'].shape)"
   ]
  },
  {
   "cell_type": "code",
   "execution_count": null,
   "metadata": {},
   "outputs": [],
   "source": [
    "print(len(all_labs['10 W']))\n",
    "print(all_labs['10 W'][0])\n",
    "# why is there a count diff?"
   ]
  },
  {
   "cell_type": "code",
   "execution_count": null,
   "metadata": {},
   "outputs": [],
   "source": [
    "imgs_folder = 'data/images/'\n",
    "output = {'categories':[{'id':1, 'name':'window'}], 'images':[], 'annotations':[]}\n",
    "count = 1\n",
    "img_count = 1\n",
    "new_spectr = {}\n",
    "for name in all_labs.keys():\n",
    "    labs = all_labs[name]\n",
    "    imgs = all_images[name]\n",
    "    spectrs = all_spectr[name]\n",
    "    for i,lab in enumerate(labs):\n",
    "        if i == 0 or i == len(labs)-1:\n",
    "            continue\n",
    "        if not (lab['boxes'].shape[0] == 1 and lab['boxes'].shape[1] == 0):\n",
    "            for box in lab['boxes']:\n",
    "                output['annotations'].append({})\n",
    "                if len(box) == 0:\n",
    "                    print(lab['boxes'])\n",
    "                    continue\n",
    "                boxx = [box[0].item(), box[1].item(), box[2].item(), box[3].item()]\n",
    "                output['annotations'][-1] = {'id':count, 'image_id':img_count, 'category_id':1, 'bbox':boxx, 'iscrowd':0, 'area':boxx[2]*boxx[3]}\n",
    "                count += 1\n",
    "        new_spectr[img_count] = all_spectr[name][i-1]\n",
    "        output['images'].append({})\n",
    "        output['images'][-1] = {'id':img_count,'file_name':f'Folder {name}/{i:04d}.jpg'}\n",
    "        img_count += 1\n",
    "\n"
   ]
  },
  {
   "cell_type": "code",
   "execution_count": null,
   "metadata": {},
   "outputs": [],
   "source": [
    "with open('../data/new_spectro.data', 'wb') as f:\n",
    "    pickle.dump(new_spectr, f)"
   ]
  },
  {
   "cell_type": "code",
   "execution_count": null,
   "metadata": {},
   "outputs": [],
   "source": [
    "with open('../data/anno', 'w') as f:\n",
    "    json.dump(output, f)"
   ]
  },
  {
   "cell_type": "code",
   "execution_count": null,
   "metadata": {},
   "outputs": [],
   "source": [
    "with open('../data/anno', 'r') as f:\n",
    "    output2 = json.load(f)\n",
    "for img_anno in output2['images']:\n",
    "    name = img_anno['file_name']\n",
    "    assert(os.path.exists(f'../{imgs_folder}{name}'))\n",
    "print(output2['annotations'])"
   ]
  },
  {
   "cell_type": "code",
   "execution_count": null,
   "metadata": {},
   "outputs": [],
   "source": []
  }
 ],
 "metadata": {
  "interpreter": {
   "hash": "8ea83725a0d7e757f9aba8ea7bbb3168a22f298da9d6ed8cf70bc5ab2342cc11"
  },
  "kernelspec": {
   "display_name": "Python 3.9.7 64-bit ('ml-venv': venv)",
   "name": "python3"
  },
  "language_info": {
   "codemirror_mode": {
    "name": "ipython",
    "version": 3
   },
   "file_extension": ".py",
   "mimetype": "text/x-python",
   "name": "python",
   "nbconvert_exporter": "python",
   "pygments_lexer": "ipython3",
   "version": "3.9.7"
  },
  "orig_nbformat": 4
 },
 "nbformat": 4,
 "nbformat_minor": 2
}
